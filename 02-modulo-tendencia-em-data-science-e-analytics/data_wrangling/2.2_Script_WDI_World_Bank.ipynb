{
 "cells": [
  {
   "cell_type": "code",
   "execution_count": 2,
   "metadata": {},
   "outputs": [],
   "source": [
    "# Data Wrangling\n",
    "# MBA em Data Science e Analytics USP/ESALQ\n",
    "\n",
    "# Atividade nº 2 - Dataset WDI World Bank\n",
    "\n",
    "# O dataset contém muitos indicadores sobre o desenvolvimento dos países\n",
    "# Fonte: https://databank.worldbank.org/source/world-development-indicators\n",
    "\n",
    "# O objetivo é analisar variáveis referentes à área da saúde"
   ]
  },
  {
   "cell_type": "code",
   "execution_count": null,
   "metadata": {},
   "outputs": [],
   "source": [
    "# Carregando os pacotes\n",
    "\n",
    "!pip install openpyxl\n",
    "\n",
    "import pandas as pd\n",
    "import seaborn as sns\n",
    "import matplotlib.pyplot as plt"
   ]
  },
  {
   "cell_type": "code",
   "execution_count": 2,
   "metadata": {},
   "outputs": [],
   "source": [
    "# Importando os bancos de dados\n",
    "\n",
    "# Analise o arquivo (2.2) WDI World Bank.xlsx e veja os missing values\n",
    "# Será utilizado um argumento de ajuste de NAs já na importação (dados_wdi)\n",
    "\n",
    "dados_wdi = pd.read_excel('(2.2)_WDI_World_Bank.xlsx', na_values='..')\n",
    "dados_grupo = pd.read_excel('(2.3)_WDI_Income_Group.xlsx')\n",
    "dados_paises = pd.read_excel('(2.4)_WDI_Country.xlsx')"
   ]
  },
  {
   "cell_type": "code",
   "execution_count": null,
   "metadata": {},
   "outputs": [],
   "source": [
    "#%% Informações básicas dos dados\n",
    "\n",
    "dados_wdi.info()\n"
   ]
  },
  {
   "cell_type": "code",
   "execution_count": null,
   "metadata": {},
   "outputs": [],
   "source": [
    "#%% Elementos únicos das variáveis\n",
    "\n",
    "dados_wdi['Country Name'].unique()\n",
    "dados_wdi['Series Name'].unique()\n",
    "dados_wdi['Topic'].unique()"
   ]
  },
  {
   "cell_type": "code",
   "execution_count": 5,
   "metadata": {},
   "outputs": [],
   "source": [
    "#%% Alterando os nomes das variáveis\n",
    "\n",
    "dados_wdi.rename(columns={'Country Name':'pais',\n",
    "                          'Country Code':'cod_pais',\n",
    "                          'Series Name': 'serie',\n",
    "                          'Series Code': 'cod_serie',\n",
    "                          '2021 [YR2021]': 'ano_2021',\n",
    "                          'Topic': 'topico'}, inplace=True)"
   ]
  },
  {
   "cell_type": "code",
   "execution_count": null,
   "metadata": {},
   "outputs": [],
   "source": [
    "#%% Analisando as últimas linhas do dataset\n",
    "\n",
    "dados_wdi['pais'].tail(n=20)\n",
    "\n",
    "# As últimas linhas do banco de dados não são observações\n",
    "# São as referências do banco de dados e não serão utilizadas"
   ]
  },
  {
   "cell_type": "code",
   "execution_count": 7,
   "metadata": {},
   "outputs": [],
   "source": [
    "#%% Excluindo as linhas finais\n",
    "\n",
    "# Neste caso, vamos selecionar aquelas que serão analisadas\n",
    "# Foi adicionada uma posição a mais na sequência\n",
    "dados_wdi = dados_wdi.iloc[0:383572,]"
   ]
  },
  {
   "cell_type": "code",
   "execution_count": null,
   "metadata": {},
   "outputs": [],
   "source": [
    "# Revisando os dados\n",
    "dados_wdi['pais'].tail(n=20)"
   ]
  },
  {
   "cell_type": "code",
   "execution_count": 9,
   "metadata": {},
   "outputs": [],
   "source": [
    "#%% Selecionando os tópicos de saúde\n",
    "\n",
    "# Os elementos do mesmo tópico iniciam com seu agregador\n",
    "# Vamos selecionar as variáveis com base neste critério\n",
    "dados_saude = dados_wdi[dados_wdi['topico'].str.startswith('Health')]"
   ]
  },
  {
   "cell_type": "code",
   "execution_count": 10,
   "metadata": {},
   "outputs": [],
   "source": [
    "#%% Colocando as séries nas colunas\n",
    "\n",
    "# O banco de dados não apresenta a estrutura com variáveis em colunas\n",
    "# Será ajustado para manter a estrutura mais comumente utilizada\n",
    "\n",
    "# As séries se tornam variáveis e as observações são os países\n",
    "dados_saude = pd.pivot(dados_saude, \n",
    "                       index=['pais','cod_pais'], \n",
    "                       columns=['serie'], \n",
    "                       values='ano_2021')\n",
    "\n",
    "# Voltando para o índice numérico\n",
    "dados_saude.reset_index(inplace=True)"
   ]
  },
  {
   "cell_type": "code",
   "execution_count": 11,
   "metadata": {},
   "outputs": [],
   "source": [
    "#%% Limpeza de observações\n",
    "\n",
    "# Muitas observações não são de países; são agrupamentos disponíveis na base\n",
    "# Para não gerar viés nas análises, vamos remover tais observações\n",
    "\n",
    "# O arquivo (2.4) WDI Country.xlsx contém a referência dos IDs dos países\n",
    "# Trocando o nome da variável chave para a ligação entre DataFrames\n",
    "dados_paises.rename(columns={'Country':'cod_pais'}, \n",
    "                    inplace=True)\n",
    "\n",
    "# Realizando um merge\n",
    "dados_saude = pd.merge(dados_saude, dados_paises, \n",
    "                       how='left', \n",
    "                       on='cod_pais')\n",
    "# A variável foi para o final do dataset\n",
    "# Os valores identificados como 'nan' não são países\n",
    "\n",
    "# Vamos limpar por meio de um filtro de observações\n",
    "dados_saude = dados_saude[~ dados_saude['Name'].isna()].reset_index(drop=True)\n",
    "\n",
    "# Vamos remover a coluna que não será mais utilizada\n",
    "dados_saude.drop(columns=['Name'], inplace=True)\n"
   ]
  },
  {
   "cell_type": "code",
   "execution_count": 12,
   "metadata": {},
   "outputs": [],
   "source": [
    "#%% Limpeza de variáveis\n",
    "\n",
    "# Muitas variáveis apresentam apenas NAs\n",
    "# Vamos manter apenas aquelas que têm alguma informação disponível\n",
    "dados_saude.dropna(axis=1, how='all', inplace=True)\n",
    "\n",
    "# axis=1 -> refere-se às colunas\n",
    "# how='all' -> drop se todos os elementos forem nan"
   ]
  },
  {
   "cell_type": "code",
   "execution_count": 13,
   "metadata": {},
   "outputs": [],
   "source": [
    "#%% Adicionar a categoria \"income group\" ao dataset final\n",
    "\n",
    "# O objetivo é adicionar uma variável de agrupamento que está em 'dados_grupo'\n",
    "\n",
    "# Selecionando as variáveis de interesse\n",
    "dados_grupo_select = dados_grupo[['Code', 'Income Group']].copy()\n",
    "\n",
    "# Trocando o nome da chave para a ligação entre DataFrames\n",
    "dados_grupo_select.rename(columns={'Code':'cod_pais'}, \n",
    "                          inplace=True)\n",
    "\n",
    "# Realizando o merge\n",
    "dados_saude = pd.merge(dados_saude, dados_grupo_select, \n",
    "                       how='left', \n",
    "                       on='cod_pais')\n"
   ]
  },
  {
   "cell_type": "code",
   "execution_count": 14,
   "metadata": {},
   "outputs": [],
   "source": [
    "#%% Reorganizando a posição da coluna\n",
    "\n",
    "# Removendo a variável de interesse\n",
    "organizar = dados_saude.pop('Income Group')\n",
    "\n",
    "# Inserindo na posição desejada\n",
    "dados_saude.insert(2, 'Group', organizar)\n",
    "\n",
    "# inserir na posição 2\n",
    "# o nome será Group\n",
    "# a variável que será inserida"
   ]
  },
  {
   "cell_type": "code",
   "execution_count": null,
   "metadata": {},
   "outputs": [],
   "source": [
    "#%% Por exemplo, supondo que trata-se de um estudo sobre diabetes \n",
    "\n",
    "# Obter as posições das variáveis\n",
    "col_pos = dados_saude.columns\n",
    "\n",
    "# A variável de interesse está na posição 23\n",
    "\n",
    "# Estatísticas descritivas\n",
    "dados_saude.iloc[:,23].describe()\n",
    "\n",
    "# Estatísticas por grupos\n",
    "estat_grupo = dados_saude.iloc[:,[2,23]].groupby('Group').mean().reset_index()\n",
    "\n",
    "# Finalizando com o gráfico\n",
    "plt.figure(figsize=(15,9), dpi = 600)\n",
    "ax = sns.barplot(data=estat_grupo, x=estat_grupo.iloc[:,0], y=estat_grupo.iloc[:,1])\n",
    "for container in ax.containers: ax.bar_label(container, fmt='%.2f', padding=3, fontsize=12)\n",
    "plt.xlabel('Grupo',fontsize=15)\n",
    "plt.ylabel('Diabetes prevalence (% of population ages 20 to 79)', fontsize=15)\n",
    "plt.xticks(fontsize=14)\n",
    "plt.yticks(fontsize=14)\n",
    "plt.show()\n",
    "\n",
    "#%% FIM!"
   ]
  }
 ],
 "metadata": {
  "kernelspec": {
   "display_name": "Python 3",
   "language": "python",
   "name": "python3"
  },
  "language_info": {
   "codemirror_mode": {
    "name": "ipython",
    "version": 3
   },
   "file_extension": ".py",
   "mimetype": "text/x-python",
   "name": "python",
   "nbconvert_exporter": "python",
   "pygments_lexer": "ipython3",
   "version": "3.8.10"
  }
 },
 "nbformat": 4,
 "nbformat_minor": 2
}
