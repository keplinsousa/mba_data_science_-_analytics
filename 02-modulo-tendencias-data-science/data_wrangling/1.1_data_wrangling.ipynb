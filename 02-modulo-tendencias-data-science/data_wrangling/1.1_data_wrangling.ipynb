{
 "cells": [
  {
   "cell_type": "code",
   "execution_count": null,
   "metadata": {},
   "outputs": [],
   "source": [
    "# Data Wrangling\n",
    "# Aplicar funções que são frequentemente utilizadas na manipulação de dados\n",
    "\n",
    "!pip install pandas\n",
    "!pip install numpy\n",
    "!pip install matplotlib\n",
    "!pip install seaborn\n",
    "!pip install xlrd"
   ]
  },
  {
   "cell_type": "code",
   "execution_count": null,
   "metadata": {},
   "outputs": [],
   "source": [
    "# Importando os pacotes\n",
    "\n",
    "import pandas as pd\n",
    "import numpy as np\n",
    "import seaborn as sns\n",
    "import matplotlib.pyplot as plt"
   ]
  },
  {
   "cell_type": "code",
   "execution_count": 3,
   "metadata": {},
   "outputs": [],
   "source": [
    "# Importando os bancos de dados\n",
    "\n",
    "dados_tempo = pd.read_excel('(1.2)_dataset_principal.xls')\n",
    "dados_merge = pd.read_excel('(1.3)_dataset_join.xls')\n",
    "# \"dados_tempo\" - Fonte: Fávero & Belfiore (2024, Cap. 12)"
   ]
  },
  {
   "cell_type": "code",
   "execution_count": null,
   "metadata": {},
   "outputs": [],
   "source": [
    "# Visualizando informações básicas do dataset\n",
    "\n",
    "## Algumas formas para visualizar informações do dataset\n",
    "\n",
    "# Configurar para printar objetos no console\n",
    "\n",
    "pd.set_option(\"display.max.columns\", None)\n",
    "\n",
    "print(dados_tempo)\n"
   ]
  },
  {
   "cell_type": "code",
   "execution_count": null,
   "metadata": {},
   "outputs": [],
   "source": [
    "# Somente os nomes das variáveis\n",
    "\n",
    "dados_tempo.columns"
   ]
  },
  {
   "cell_type": "code",
   "execution_count": null,
   "metadata": {},
   "outputs": [],
   "source": [
    "# Somente as primeiras \"n\" observações + nomes das variáveis\n",
    "\n",
    "dados_tempo.head(n=5)"
   ]
  },
  {
   "cell_type": "code",
   "execution_count": null,
   "metadata": {},
   "outputs": [],
   "source": [
    "# Somente as últimas \"n\" observações + nome das variáveis\n",
    "\n",
    "dados_tempo.tail(n=3)"
   ]
  },
  {
   "cell_type": "code",
   "execution_count": null,
   "metadata": {},
   "outputs": [],
   "source": [
    "# Informações detalhadas sobre as variáveis\n",
    "\n",
    "dados_tempo.info()"
   ]
  },
  {
   "cell_type": "code",
   "execution_count": 9,
   "metadata": {},
   "outputs": [],
   "source": [
    "# object = variável de texto\n",
    "# int ou float = variável numérica (métrica)\n",
    "# category = variável categórica (qualitativa)\n",
    "\n",
    "#%% Alterando os nomes das variáveis\n",
    "\n",
    "# No dataset de exemplo, os nomes das variáveis contêm:\n",
    "# Espaços, maiúsculas, acentos e caracteres especiais...\n",
    "# É melhor não utilizá-los, pois podem gerar conflito e dificultam a escrita\n",
    "\n",
    "# Função \"rename\": utilizada para alterar o nome das variáveis\n",
    "\n",
    "# Renomeando todas as variáveis pelos nomes\n",
    "\n",
    "dados_tempo = dados_tempo.rename(columns={'Estudante':'estudante',\n",
    "                                          'Tempo para chegar à escola (minutos)':'tempo',\n",
    "                                          'Distância percorrida até a escola (quilômetros)': 'distancia',\n",
    "                                          'Quantidade de semáforos': 'semaforos',\n",
    "                                          'Período do dia': 'periodo',\n",
    "                                          'Perfil ao volante': 'perfil'})"
   ]
  },
  {
   "cell_type": "code",
   "execution_count": 10,
   "metadata": {},
   "outputs": [],
   "source": [
    "# A seguir, vamos criar um objeto com nomes trocados\n",
    "# Porém, a referência da variável está pela posição da coluna\n",
    "# Em datasets com muitas variáveis, esta função facilita a escrita do código\n",
    "# Lembrando: no Python as contagens de colunas e linhas iniciam-se em zero!\n",
    "\n",
    "# Renomeando as variáveis pela sua posição (criando um objeto)\n",
    "# Não é necessário trocar todos os nomes, pode ser um ou alguns deles\n",
    "\n",
    "dados_novo = dados_tempo.rename(columns={dados_tempo.columns[0]: 'obs',\n",
    "                                         dados_tempo.columns[1]: 'temp',\n",
    "                                         dados_tempo.columns[5]: 'perf'})\n",
    "\n",
    "# Para reescrever o mesmo objeto, poderia utilizar argumento inplace=True\n",
    "\n",
    "dados_novo.rename(columns={'distancia': 'dist',\n",
    "                           'semaforos': 'sem',\n",
    "                           'periodo': 'per'},\n",
    "                  inplace=True)"
   ]
  },
  {
   "cell_type": "code",
   "execution_count": null,
   "metadata": {},
   "outputs": [],
   "source": [
    "#%% Selecionando observações e variáveis de interesse\n",
    "\n",
    "# Selecionando com base nas posições (1º arg.: linhas, 2º arg.: colunas)\n",
    "# ATENÇÃO: no Python as contagens de colunas e linhas iniciam-se em zero!\n",
    "\n",
    "print(dados_tempo.iloc[3,])\n",
    "print(dados_tempo.iloc[:,4]) # argumento : indicam vazio na linha\n",
    "print(dados_tempo.iloc[2:5,]) # note que exclui a posição final\n",
    "print(dados_tempo.iloc[:,3:5]) # note que exclui a posição final\n",
    "print(dados_tempo.iloc[2:4,3:5]) # note que exclui as posições finais\n",
    "print(dados_tempo.iloc[5,4])"
   ]
  },
  {
   "cell_type": "code",
   "execution_count": 12,
   "metadata": {},
   "outputs": [],
   "source": [
    "# Detalhar uma variável em específico pelo nome\n",
    "\n",
    "dados_tempo['tempo']\n",
    "var_tempo = dados_tempo['tempo']\n",
    "\n",
    "dados_tempo.perfil\n",
    "var_perfil = dados_tempo.perfil"
   ]
  },
  {
   "cell_type": "code",
   "execution_count": 13,
   "metadata": {},
   "outputs": [],
   "source": [
    "# Se for mais de uma variável, inserir o argumento como uma lista\n",
    "\n",
    "dados_tempo[['tempo', 'perfil']]\n",
    "var_tempo_perfil = dados_tempo[['tempo', 'perfil']]"
   ]
  },
  {
   "cell_type": "code",
   "execution_count": 14,
   "metadata": {},
   "outputs": [],
   "source": [
    "# Selecionando variáveis por meio de um início em comum\n",
    "\n",
    "selec_1 = dados_tempo.loc[:, dados_tempo.columns.str.startswith('per')]"
   ]
  },
  {
   "cell_type": "code",
   "execution_count": 15,
   "metadata": {},
   "outputs": [],
   "source": [
    "# Selecionando variáveis por meio de um final em comum\n",
    "\n",
    "selec_2 = dados_tempo.loc[:, dados_tempo.columns.str.endswith('o')]"
   ]
  },
  {
   "cell_type": "code",
   "execution_count": 16,
   "metadata": {},
   "outputs": [],
   "source": [
    "#%% Criação e alteração de variáveis e seus conteúdos\n",
    "\n",
    "## 1. Vamos adicionar uma variável a um dataset existente\n",
    "# Aqui as observações do dataset e variável devem estar igualmente ordenadas!\n",
    "\n",
    "idade = pd.Series([25,28,30,19,20,36,33,48,19,21])\n",
    "dados_novo['idade'] = idade"
   ]
  },
  {
   "cell_type": "code",
   "execution_count": 17,
   "metadata": {},
   "outputs": [],
   "source": [
    "## 2. Adicionando linhas ao banco de dados\n",
    "# A união ocorrerá pelo nome da coluna, mesmo estando em ordem distinta\n",
    "\n",
    "nova_obs = pd.DataFrame({'per': ['Tarde'],\n",
    "                         'obs': ['Roberto'],\n",
    "                         'temp': [40]})\n",
    "\n",
    "dados_concat = pd.concat([dados_novo, nova_obs])\n",
    "dados_concat = pd.concat([dados_novo, nova_obs]).reset_index(drop=True)"
   ]
  },
  {
   "cell_type": "code",
   "execution_count": 18,
   "metadata": {},
   "outputs": [],
   "source": [
    "# Foram gerados nan (valores faltantes - missing values)\n",
    "\n",
    "## 3. Vamos criar uma variável em função de outras duas\n",
    "# O valor será arredondado na mesma linha de código\n",
    "\n",
    "dados_novo['sem_km'] = round((dados_novo['sem'] / dados_novo ['dist']), 2)"
   ]
  },
  {
   "cell_type": "code",
   "execution_count": null,
   "metadata": {},
   "outputs": [],
   "source": [
    "## 4. Vamos trocar os rótulos de determinadas variáveis\n",
    "# Vamos usar a função 'assign' que adiciona variáveis ao dataset\n",
    "# A função 'map' tem o objetivo de aplicar uma função a todos elementos da lista\n",
    "\n",
    "# 4.1 Trocando textos por textos\n",
    "labels = {'calmo': 'perfil_A',\n",
    "          'moderado': 'perfil_B',\n",
    "          'agressivo': 'perfil_C'}\n",
    "\n",
    "df_labels = dados_tempo.assign(novo_perfil = dados_tempo.perfil.map(labels))\n",
    "df_labels.info()\n",
    "\n",
    "# 4.2 Trocando textos por números (ATENÇÃO: Não fazer ponderação arbitrária!)\n",
    "numeros = {'calmo': 1,\n",
    "           'moderado': 2,\n",
    "           'agressivo': 3}\n",
    "\n",
    "df_numeros = dados_tempo.assign(novo_perfil = dados_tempo.perfil.map(numeros))\n",
    "df_numeros.info()\n",
    "\n",
    "# 4.3 Trocando números por textos\n",
    "textos = {0: 'zero',\n",
    "          1: 'um',\n",
    "          2: 'dois',\n",
    "          3: 'três'}\n",
    "\n",
    "df_texto = dados_tempo.assign(novo_semaforos = dados_tempo.semaforos.map(textos))\n",
    "df_texto.info()"
   ]
  },
  {
   "cell_type": "code",
   "execution_count": 20,
   "metadata": {},
   "outputs": [],
   "source": [
    "## 5. Vamos categorizar aplicando critérios detalhados por meio de condições\n",
    "\n",
    "dados_tempo['faixa'] = np.where(dados_tempo['tempo']<=20, 'rápido',\n",
    "                       np.where((dados_tempo['tempo']>20) & (dados_tempo['tempo']<=40), 'médio',\n",
    "                       np.where(dados_tempo['tempo']>40, 'demorado',\n",
    "                                'demais')))"
   ]
  },
  {
   "cell_type": "code",
   "execution_count": 21,
   "metadata": {},
   "outputs": [],
   "source": [
    "## 6. Outra forma de categorizar é por meio dos quartis de variáveis (q=4)\n",
    "\n",
    "dados_tempo['quartis'] = pd.qcut(dados_tempo['tempo'], q=4, labels=['1','2','3','4'])\n"
   ]
  },
  {
   "cell_type": "code",
   "execution_count": null,
   "metadata": {},
   "outputs": [],
   "source": [
    "#7. Em certas circunstâncias será necessário trocar o tipo da variável\n",
    "# Para evitar a ponderação arbitrária no df_numeros, vamos alterar o tipo\n",
    "\n",
    "df_numeros['novo_perfil'] = df_numeros['novo_perfil'].astype('category')\n",
    "df_numeros.info()"
   ]
  },
  {
   "cell_type": "code",
   "execution_count": 23,
   "metadata": {},
   "outputs": [],
   "source": [
    "## 8. Por fim, vamos excluir algumas colunas sem uso\n",
    "# Por exemplo, em df_numeros não vamos usar 'periodo' e 'perfil'\n",
    "\n",
    "df_numeros.drop(columns=['periodo', 'perfil'], inplace=True)"
   ]
  },
  {
   "cell_type": "code",
   "execution_count": 24,
   "metadata": {},
   "outputs": [],
   "source": [
    "#%% Organizando as observações do dataset por meio de critérios\n",
    "\n",
    "# Organizando em ordem crescente\n",
    "\n",
    "df_org_1 = dados_tempo.sort_values(by=['tempo'], ascending=True).reset_index(drop=True)\n",
    "\n",
    "# Organizando em ordem decrescente\n",
    "\n",
    "df_org_2 = dados_tempo.sort_values(by=['tempo'], ascending=False).reset_index(drop=True)\n",
    "\n",
    "# Também é possível organizar variáveis texto\n",
    "\n",
    "df_org_3 = dados_tempo.sort_values(by=['estudante'], ascending=True).reset_index(drop=True)\n",
    "df_org_4 = dados_tempo.sort_values(by=['perfil'], ascending=False).reset_index(drop=True)\n",
    "\n",
    "# Organizando por mais de um critério\n",
    "\n",
    "df_org_5 = dados_tempo.sort_values(by=['perfil', 'distancia'], \n",
    "                                   ascending=[False, True]).reset_index(drop=True)"
   ]
  },
  {
   "cell_type": "code",
   "execution_count": null,
   "metadata": {},
   "outputs": [],
   "source": [
    "#%% Resumindo os dados\n",
    "\n",
    "## 1. Visualizando estatísticas descritivas\n",
    "\n",
    "# Tabela de descritivas para variáveis quantitativas\n",
    "\n",
    "dados_tempo.describe()"
   ]
  },
  {
   "cell_type": "code",
   "execution_count": null,
   "metadata": {},
   "outputs": [],
   "source": [
    "# Estatísticas individuais\n",
    "\n",
    "print(dados_tempo['tempo'].count()) # contagem\n",
    "print(dados_tempo['tempo'].mean()) # média\n",
    "print(dados_tempo['tempo'].median()) # mediana\n",
    "print(dados_tempo['tempo'].min()) # mínimo\n",
    "print(dados_tempo['tempo'].max()) # máximo\n",
    "print(dados_tempo['tempo'].std()) # desvio padrão\n",
    "print(dados_tempo['tempo'].var()) # variância\n",
    "print(dados_tempo['tempo'].quantile([0.25, 0.75])) # quartis\n",
    "print(dados_tempo['tempo'].sum()) # soma"
   ]
  },
  {
   "cell_type": "code",
   "execution_count": null,
   "metadata": {},
   "outputs": [],
   "source": [
    "# Matriz de correlações de Pearson\n",
    "\n",
    "dados_tempo[['tempo', 'distancia', 'semaforos']].corr()"
   ]
  },
  {
   "cell_type": "code",
   "execution_count": null,
   "metadata": {},
   "outputs": [],
   "source": [
    "# Tabela de frequências para variáveis qualitativas\n",
    "\n",
    "dados_tempo['periodo'].value_counts() # frequências absolutas\n",
    "dados_tempo['perfil'].value_counts(normalize=True) # frequências relativas"
   ]
  },
  {
   "cell_type": "code",
   "execution_count": null,
   "metadata": {},
   "outputs": [],
   "source": [
    "# Tabela de frequências cruzadas para pares de variáveis qualitativas\n",
    "\n",
    "pd.crosstab(dados_tempo['periodo'], dados_tempo['perfil'])\n",
    "pd.crosstab(dados_tempo['periodo'], dados_tempo['perfil'], normalize=True)"
   ]
  },
  {
   "cell_type": "code",
   "execution_count": null,
   "metadata": {},
   "outputs": [],
   "source": [
    "## 2. Obtendo informações de valores únicos das variáveis\n",
    "\n",
    "print(dados_tempo['tempo'].unique())\n",
    "print(dados_tempo['periodo'].unique())\n",
    "print(dados_tempo['perfil'].nunique()) # quantidade de valores únicos"
   ]
  },
  {
   "cell_type": "code",
   "execution_count": 31,
   "metadata": {},
   "outputs": [],
   "source": [
    "## 3. Criando um banco de dados agrupado (um critério)\n",
    "\n",
    "dados_periodo = dados_tempo.groupby(['periodo'])"
   ]
  },
  {
   "cell_type": "code",
   "execution_count": null,
   "metadata": {},
   "outputs": [],
   "source": [
    "# Gerando estatísticas descritivas\n",
    "\n",
    "dados_periodo.describe()\n",
    "\n"
   ]
  },
  {
   "cell_type": "code",
   "execution_count": null,
   "metadata": {},
   "outputs": [],
   "source": [
    "# Caso a tabela gerada esteja com visualização ruim no print, pode transpor\n",
    "\n",
    "dados_periodo.describe().T"
   ]
  },
  {
   "cell_type": "code",
   "execution_count": null,
   "metadata": {},
   "outputs": [],
   "source": [
    "# Tamanho de cada grupo\n",
    "\n",
    "dados_periodo.size()\n"
   ]
  },
  {
   "cell_type": "code",
   "execution_count": 35,
   "metadata": {},
   "outputs": [],
   "source": [
    "# Criando um banco de dados agrupado (mais de um critério)\n",
    "\n",
    "dados_criterios = dados_tempo.groupby(['periodo', 'perfil'])"
   ]
  },
  {
   "cell_type": "code",
   "execution_count": null,
   "metadata": {},
   "outputs": [],
   "source": [
    "# Gerando as estatísticas descritivas\n",
    "\n",
    "dados_criterios.describe().T"
   ]
  },
  {
   "cell_type": "code",
   "execution_count": null,
   "metadata": {},
   "outputs": [],
   "source": [
    "# Tamanho de cada grupo\n",
    "\n",
    "dados_criterios.size()"
   ]
  },
  {
   "cell_type": "code",
   "execution_count": null,
   "metadata": {},
   "outputs": [],
   "source": [
    "# Especificando estatísticas de interesse\n",
    "\n",
    "dados_periodo.agg({'tempo': 'mean',\n",
    "                   'distancia': 'mean',\n",
    "                   'periodo': 'count'})"
   ]
  },
  {
   "cell_type": "code",
   "execution_count": null,
   "metadata": {},
   "outputs": [],
   "source": [
    "#%% Filtros de observações\n",
    "\n",
    "# Vamos conhecer a função query para realizar os filtros\n",
    "\n",
    "# Variáveis textuais e categóricas\n",
    "\n",
    "filtro_calmo = dados_tempo[dados_tempo['perfil'] == 'calmo']\n",
    "filtro_quartil = dados_tempo[dados_tempo['quartis'] == '1']\n",
    "\n",
    "print(dados_tempo.query('perfil == \"calmo\"'))\n",
    "print(dados_tempo.query('quartis == \"1\"'))\n"
   ]
  },
  {
   "cell_type": "code",
   "execution_count": null,
   "metadata": {},
   "outputs": [],
   "source": [
    "# Interseção entre critérios (&)\n",
    "\n",
    "filtro_intersecao = dados_tempo[(dados_tempo['perfil'] == 'calmo') & (dados_tempo['periodo'] == 'Tarde')]\n",
    "\n",
    "dados_tempo.query('perfil == \"calmo\" & periodo == \"Tarde\"')"
   ]
  },
  {
   "cell_type": "code",
   "execution_count": null,
   "metadata": {},
   "outputs": [],
   "source": [
    "\n",
    "# União entre critérios (|)\n",
    "\n",
    "filtro_uniao = dados_tempo[(dados_tempo['perfil'] == 'calmo') | (dados_tempo['periodo'] == 'Tarde')]\n",
    "\n",
    "dados_tempo.query('perfil == \"calmo\" | periodo == \"Tarde\"')"
   ]
  },
  {
   "cell_type": "code",
   "execution_count": null,
   "metadata": {},
   "outputs": [],
   "source": [
    "# Critério de diferente (!=)\n",
    "\n",
    "filtro_difer = dados_tempo[(dados_tempo['perfil'] != 'calmo')]\n",
    "\n",
    "dados_tempo.query('perfil != \"calmo\"')"
   ]
  },
  {
   "cell_type": "code",
   "execution_count": null,
   "metadata": {},
   "outputs": [],
   "source": [
    "# Utilizando operadores em variáveis métricas\n",
    "\n",
    "filtro_tempo_1 = dados_tempo[dados_tempo['tempo'] >= 25]\n",
    "\n",
    "filtro_tempo_2 = dados_tempo[(dados_tempo['tempo'] > 30) & (dados_tempo['distancia'] <= 25)]\n",
    "\n",
    "filtro_tempo_3 = dados_tempo[dados_tempo['tempo'].between(25, 40, inclusive='both')]\n",
    "# inclusive: \"both\", \"neither\", \"left\" ou \"right\"\n",
    "\n",
    "print(dados_tempo.query('tempo >= 25'))\n",
    "print(dados_tempo.query('tempo > 30 & distancia <= 25'))\n",
    "print(dados_tempo.query('tempo.between(25, 40, inclusive=\"both\")'))\n"
   ]
  },
  {
   "cell_type": "code",
   "execution_count": null,
   "metadata": {},
   "outputs": [],
   "source": [
    "# Comparando com valores de outro objeto (isin())\n",
    "\n",
    "nomes = pd.Series([\"Gabriela\", \"Gustavo\", \"Leonor\", \"Ana\", \"Júlia\"])\n",
    "filtro_contidos = dados_tempo[dados_tempo['estudante'].isin(nomes)]\n",
    "\n",
    "dados_tempo.query('estudante.isin(@nomes)') # note o @ referenciando o objeto"
   ]
  },
  {
   "cell_type": "code",
   "execution_count": null,
   "metadata": {},
   "outputs": [],
   "source": [
    "# Usando o critério \"não\" (inverte o argumento)\n",
    "\n",
    "filtro_tempo_4 = dados_tempo[~(dados_tempo['tempo'] >= 25)]\n",
    "\n",
    "filtro_perfil_demais = dados_tempo[~(dados_tempo['perfil'] == 'moderado')]\n",
    "\n",
    "filtro_nao_contidos = dados_tempo[~(dados_tempo['estudante'].isin(nomes))]\n",
    "\n",
    "dados_tempo.query('~(tempo >= 25)')\n",
    "dados_tempo.query('~(perfil == \"moderado\")')\n",
    "dados_tempo.query('~(estudante.isin(@nomes))')"
   ]
  },
  {
   "cell_type": "code",
   "execution_count": null,
   "metadata": {},
   "outputs": [],
   "source": [
    "#%% Junção de bancos de dados (merge)\n",
    "\n",
    "# É necessária uma \"chave\" que faça a ligação entre os dois bancos de dados\n",
    "# Ou seja, é necessário pelo menos uma variável em comum nos datasets\n",
    "\n",
    "# Inicialmente, deixar as colunas \"chave\" com o mesmo nome nos dois datasets\n",
    "\n",
    "dados_merge.rename(columns={'Estudante':'estudante'}, inplace=True)\n",
    "\n",
    "# Parâmetros de configuração na função merge:\n",
    "    # how: é a direção do merge (quais IDs restam na base final)\n",
    "    # on: é a coluna com a chave para o merge\n",
    "\n",
    "# Note que existe a seguinte diferença em termos de observações:\n",
    "    # dados_tempo: contém Antônio, mas não o Marcos\n",
    "    # dados_merge: contém Marcos, mas não Antônio\n",
    "\n",
    "# Left\n",
    "# Observações de dados_merge -> dados_tempo\n",
    "# Ficam os IDs de dados_tempo\n",
    "\n",
    "merge_1 = pd.merge(dados_tempo, dados_merge, how='left', on='estudante')\n",
    "\n",
    "print(merge_1)"
   ]
  },
  {
   "cell_type": "code",
   "execution_count": null,
   "metadata": {},
   "outputs": [],
   "source": [
    "# Right\n",
    "# Observações de dados_tempo -> dados_merge\n",
    "# Ficam os IDs de dados_merge\n",
    "\n",
    "merge_2 = pd.merge(dados_tempo, dados_merge, how='right', on='estudante')\n",
    "print(merge_2)"
   ]
  },
  {
   "cell_type": "code",
   "execution_count": null,
   "metadata": {},
   "outputs": [],
   "source": [
    "# Outer\n",
    "# Observações das duas bases de dados constam na base final \n",
    "# Ficam todos os IDs presentes nas duas bases\n",
    "\n",
    "merge_3 = pd.merge(dados_tempo, dados_merge, how='outer', on='estudante')\n",
    "print(merge_3)"
   ]
  },
  {
   "cell_type": "code",
   "execution_count": null,
   "metadata": {},
   "outputs": [],
   "source": [
    "# Inner\n",
    "# Somente os IDs que constam nas duas bases ficam na base final \n",
    "# É a interseção de IDs entre as duas bases de dados\n",
    "\n",
    "merge_4 = pd.merge(dados_tempo, dados_merge, how='inner', on='estudante')\n",
    "print(merge_4)"
   ]
  },
  {
   "cell_type": "code",
   "execution_count": null,
   "metadata": {},
   "outputs": [],
   "source": [
    "# Verificando apenas a diferença entre os bancos de dados (comparação)\n",
    "\n",
    "merge_5 = dados_tempo[~ dados_tempo.estudante.isin(dados_merge.estudante)]\n",
    "merge_6 = dados_merge[~ dados_merge.estudante.isin(dados_tempo.estudante)]\n",
    "\n",
    "# É importante analisar se há duplicidades de observações antes do merge\n",
    "print(merge_5)\n",
    "print(merge_6)"
   ]
  },
  {
   "cell_type": "code",
   "execution_count": null,
   "metadata": {},
   "outputs": [],
   "source": [
    "#%% Analisando duplicidades de observações\n",
    "\n",
    "# Gerando o objeto após a remoção\n",
    "\n",
    "dados_tempo.drop_duplicates()\n",
    "# Interpretação: como retornou o mesmo DataFrame, não há duplicidades\n",
    "\n",
    "# Contagem de linhas duplicadas\n",
    "\n",
    "len(dados_tempo) - len(dados_tempo.drop_duplicates())\n",
    "\n",
    "# Se fosse para estabelecer uma remoção com base em algumas variáveis\n",
    "\n",
    "dados_tempo.drop_duplicates(subset=['estudante', 'perfil'])\n",
    "\n"
   ]
  },
  {
   "cell_type": "code",
   "execution_count": null,
   "metadata": {},
   "outputs": [],
   "source": [
    "#%% Excluindo valores faltantes (NA)\n",
    "\n",
    "# Apresentando a contagem de NAs em cada variável\n",
    "\n",
    "print(merge_3.isna().sum())\n",
    "\n",
    "# Caso queira substituir NAs por algum elemento\n",
    "\n",
    "merge_3 = merge_3.assign(quartis = merge_3.quartis.astype('object'))\n",
    "\n",
    "# Texto\n",
    "\n",
    "merge_3.fillna('elemento')\n",
    "\n",
    "# Valor métrico\n",
    "# ATENÇÃO: NÃO É UMA RECOMENDAÇÃO, APENAS ILUSTRA A DISPONIBILIDADE DO CÓDIGO!\n",
    "\n",
    "merge_3['tempo'].fillna(merge_3['tempo'].mean())\n",
    "\n",
    "# Excluindo observações que apresentem valores faltantes\n",
    "\n",
    "merge_exclui = merge_3.dropna().reset_index(drop=True)"
   ]
  },
  {
   "cell_type": "code",
   "execution_count": 53,
   "metadata": {},
   "outputs": [],
   "source": [
    "#%% Alterando a estrutura do banco de dados\n",
    "\n",
    "# Colocando uma coluna abaixo de outra\n",
    "\n",
    "df_estrutura = pd.melt(dados_tempo,\n",
    "                       id_vars='estudante',\n",
    "                       value_vars=['tempo', 'distancia'])"
   ]
  },
  {
   "cell_type": "code",
   "execution_count": null,
   "metadata": {},
   "outputs": [],
   "source": [
    "# Gerando um gráfico no novo DataFrame\n",
    "\n",
    "plt.figure(figsize=(15,9), dpi = 600)\n",
    "sns.barplot(data=df_estrutura, y='estudante', x='value', hue='variable')"
   ]
  },
  {
   "cell_type": "code",
   "execution_count": 55,
   "metadata": {},
   "outputs": [],
   "source": [
    "#%% Encadeando funções\n",
    "\n",
    "# Em certas circunstâncias é possível encadear uma função na outra\n",
    "# Facilita a escrita e a leitura do código\n",
    "\n",
    "(dados_tempo\n",
    ".assign(sem_km = round((dados_novo['sem']/dados_novo ['dist']), 2))\n",
    ".query('tempo >= 30')\n",
    ".rename(columns={'periodo':'per'})\n",
    ".groupby('per')\n",
    ".agg({'sem_km':'mean',\n",
    "      'distancia': 'mean',\n",
    "      'per': 'count'}))\n",
    "\n",
    "# Poderia criar um objeto normalmente!\n",
    "\n",
    "df_ajustes = (dados_tempo\n",
    ".assign(sem_km = round((dados_novo['sem']/dados_novo ['dist']), 2))\n",
    ".query('tempo >= 30')\n",
    ".rename(columns={'periodo':'per'})).sort_values('estudante').reset_index(drop=True)\n",
    "\n",
    "#%% FIM!"
   ]
  }
 ],
 "metadata": {
  "kernelspec": {
   "display_name": "Python 3",
   "language": "python",
   "name": "python3"
  },
  "language_info": {
   "codemirror_mode": {
    "name": "ipython",
    "version": 3
   },
   "file_extension": ".py",
   "mimetype": "text/x-python",
   "name": "python",
   "nbconvert_exporter": "python",
   "pygments_lexer": "ipython3",
   "version": "3.8.10"
  }
 },
 "nbformat": 4,
 "nbformat_minor": 2
}
