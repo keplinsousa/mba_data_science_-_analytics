{
 "cells": [
  {
   "cell_type": "code",
   "execution_count": 1,
   "metadata": {},
   "outputs": [],
   "source": [
    "# Data Wrangling\n",
    "# MBA em Data Science e Analytics USP/ESALQ"
   ]
  },
  {
   "cell_type": "code",
   "execution_count": null,
   "metadata": {},
   "outputs": [],
   "source": [
    "#%% Atividade nº 4 - Dataset Jogos da Copa do Mundo de Futebol 2022\n",
    "\n",
    "# As observações são os jogos que aconteceram ao longo da Copa\n",
    "# Fonte: https://www.kaggle.com/datasets/mcarujo/fifa-world-cup-2022-catar?select=matches_world_cup_2022_catar.csv\n"
   ]
  },
  {
   "cell_type": "code",
   "execution_count": null,
   "metadata": {},
   "outputs": [],
   "source": [
    "#%% Carregando os pacotes\n",
    "\n",
    "import pandas as pd\n",
    "import numpy as np\n",
    "import seaborn as sns\n",
    "import matplotlib.pyplot as plt"
   ]
  },
  {
   "cell_type": "code",
   "execution_count": 2,
   "metadata": {},
   "outputs": [],
   "source": [
    "#%% Importando o banco de dados\n",
    "\n",
    "dados_jogos = pd.read_csv('(4.2)_Jogos_Copa_22.csv', sep=',')"
   ]
  },
  {
   "cell_type": "code",
   "execution_count": null,
   "metadata": {},
   "outputs": [],
   "source": [
    "#%% Informações básicas do dataset\n",
    "\n",
    "dados_jogos.info()\n",
    "\n",
    "# O dataset já está bastante organizado!\n"
   ]
  },
  {
   "cell_type": "code",
   "execution_count": 4,
   "metadata": {},
   "outputs": [],
   "source": [
    "#%% Criando uma variável com o time vencedor do jogo\n",
    "\n",
    "# Uma variável que não consta na lista é o time vencedor do jogo\n",
    "\n",
    "dados_jogos['venceu'] = np.where((dados_jogos['team_home_score'] - dados_jogos['team_away_score'] > 0), 'mandante',\n",
    "                        np.where((dados_jogos['team_home_score'] - dados_jogos['team_away_score'] < 0), 'visitante',\n",
    "                        np.where((dados_jogos['team_home_score'] - dados_jogos['team_away_score'] == 0), 'empate',\n",
    "                                \"Demais\")))\n",
    "\n",
    "# Entretanto, algumas partidas foram decididas nos pênaltis\n",
    "# Vamos incorporar tais variáveis às análises"
   ]
  },
  {
   "cell_type": "code",
   "execution_count": 5,
   "metadata": {},
   "outputs": [],
   "source": [
    "#%% Ajustando classe das variáveis de pênaltis\n",
    "\n",
    "# Note que estão como textos, precisam ser numéricas\n",
    "\n",
    "# Primeiramente, substituir os textos Falses por NAs\n",
    "dados_jogos['pens_home_score'] = dados_jogos['pens_home_score'].replace('False', np.nan)\n",
    "dados_jogos['pens_away_score'] = dados_jogos['pens_away_score'].replace('False', np.nan)\n",
    "\n",
    "# Em seguida, convertendo para variáveis numéricas\n",
    "dados_jogos['pens_home_score'] = dados_jogos['pens_home_score'].astype('float')\n",
    "dados_jogos['pens_away_score'] = dados_jogos['pens_away_score'].astype('float')\n"
   ]
  },
  {
   "cell_type": "code",
   "execution_count": 6,
   "metadata": {},
   "outputs": [],
   "source": [
    "#%% Ajustando a variável com o time vencedor do jogo\n",
    "\n",
    "dados_jogos['vencedor'] = np.where(dados_jogos['pens_home_score'] - dados_jogos['pens_away_score'] > 0, 'mandante',\n",
    "                          np.where(dados_jogos['pens_home_score'] - dados_jogos['pens_away_score'] < 0, 'visitante',\n",
    "                          np.where(dados_jogos['pens_home_score'].isna(), dados_jogos['venceu'],\n",
    "                                   \"Demais\")))\n",
    "\n",
    "# E eliminando a variável base anterior\n",
    "dados_jogos.drop(columns=['venceu'], inplace=True)"
   ]
  },
  {
   "cell_type": "code",
   "execution_count": null,
   "metadata": {},
   "outputs": [],
   "source": [
    "#%% Informações sobre os vencedores\n",
    "\n",
    "# Tabela de frequências\n",
    "dados_jogos['vencedor'].value_counts()\n",
    "\n",
    "# Gerando um gráfico com as informações dos vencedores\n",
    "plt.figure(figsize=(15,9), dpi = 600)\n",
    "ax=sns.countplot(x=dados_jogos['vencedor'])\n",
    "for container in ax.containers: ax.bar_label(container, padding=1, fontsize=12)\n",
    "plt.xlabel('Vencedor',fontsize=15)\n",
    "plt.ylabel('Contagem',fontsize=15)\n",
    "plt.xticks(fontsize=14)\n",
    "plt.yticks(fontsize=14)\n",
    "plt.show()"
   ]
  },
  {
   "cell_type": "code",
   "execution_count": 8,
   "metadata": {},
   "outputs": [],
   "source": [
    "#%% Identificando a fase da competição\n",
    "\n",
    "# Vamos obter a primeira palavra da variável 'stage'\n",
    "dados_jogos['fase'] = dados_jogos['stage'].str.split(' ').str[0]"
   ]
  },
  {
   "cell_type": "code",
   "execution_count": null,
   "metadata": {},
   "outputs": [],
   "source": [
    "#%% Vencedores por fase da competição\n",
    "\n",
    "dados_jogos.groupby(['fase'])['vencedor'].value_counts()\n"
   ]
  },
  {
   "cell_type": "code",
   "execution_count": null,
   "metadata": {},
   "outputs": [],
   "source": [
    "#%% Gerando um gráfico com as informações dos vencedores por fase\n",
    "\n",
    "plt.figure(figsize=(15,9), dpi = 600)\n",
    "ax1=sns.countplot(data=dados_jogos, y='fase', hue='vencedor')\n",
    "for container in ax1.containers: ax1.bar_label(container, padding=1, fontsize=12)\n",
    "plt.legend(loc='upper right', title='Vencedor')\n",
    "plt.xlabel('Quantidade')\n",
    "plt.ylabel('Fase')\n",
    "plt.xticks(np.arange(0, 21, step=1))\n",
    "plt.show()"
   ]
  },
  {
   "cell_type": "code",
   "execution_count": null,
   "metadata": {},
   "outputs": [],
   "source": [
    "#%% No dataset há informações com as probabilidades de vitórias das seleções\n",
    "\n",
    "# Vamos analisar se os modelos estavam certos ou não!\n",
    "\n",
    "# Gerando a categorização\n",
    "dados_jogos['previsao'] = np.where(dados_jogos['prediction_team_home_win'] > dados_jogos['prediction_team_away_win'], 'mandante',\n",
    "                          np.where(dados_jogos['prediction_team_home_win'] < dados_jogos['prediction_team_away_win'], 'visitante',\n",
    "                                   'Demais'))\n",
    "\n",
    "# Comparando com o realizado\n",
    "dados_jogos['result_previsao'] = np.where(dados_jogos['vencedor'] == dados_jogos['previsao'], 'acerto',\n",
    "                                 np.where(dados_jogos['vencedor'] != dados_jogos['previsao'], 'erro',\n",
    "                                          'Demais'))\n",
    "\n",
    "dados_jogos['result_previsao'].value_counts(normalize=True)"
   ]
  },
  {
   "cell_type": "code",
   "execution_count": 12,
   "metadata": {},
   "outputs": [],
   "source": [
    "#%% Vamos analisar os jogadores que fizeram gols\n",
    "\n",
    "# Esta informação está na variável \"events_list\" que é uma string mais complexa\n",
    "# Precisamos retirar a informação específica, então vamos procurar um padrão\n",
    "# A informação que queremos está após 'Goal', 'action_player_1': '\n",
    "\n",
    "# Extraindo os jogadores que fizeram gols\n",
    "\n",
    "extrai_gol = dados_jogos['events_list'].str.extractall(\"'Goal', 'action_player_1': '\\\\w*(.*?)\\\\w*\\\\'\")\n",
    "\n",
    "# Acima, utilizamos regex (regular expression), úteis para trabalhar em strings\n",
    "# É importante conhecer a existência delas, em alguns casos podem ajudar\n",
    "# O str.extractall pede para extrair em todas as ocorrências do padrão\n",
    "\n",
    "# Extraindo também os jogadores que fizeram gols de pênaltis\n",
    "\n",
    "extrai_penalti = dados_jogos['events_list'].str.extractall(\"'event_type': 'Penalty', 'action_player_1': '\\\\w*(.*?)\\\\w*\\\\'\")\n"
   ]
  },
  {
   "cell_type": "code",
   "execution_count": 13,
   "metadata": {},
   "outputs": [],
   "source": [
    "#%% Unindo os datasets\n",
    "\n",
    "gols = pd.concat([extrai_gol, extrai_penalti], ignore_index=True)\n",
    "\n",
    "tabela_artil = gols.value_counts()\n",
    "\n",
    "#%% FIM!"
   ]
  }
 ],
 "metadata": {
  "kernelspec": {
   "display_name": "Python 3",
   "language": "python",
   "name": "python3"
  },
  "language_info": {
   "codemirror_mode": {
    "name": "ipython",
    "version": 3
   },
   "file_extension": ".py",
   "mimetype": "text/x-python",
   "name": "python",
   "nbconvert_exporter": "python",
   "pygments_lexer": "ipython3",
   "version": "3.8.10"
  }
 },
 "nbformat": 4,
 "nbformat_minor": 2
}
