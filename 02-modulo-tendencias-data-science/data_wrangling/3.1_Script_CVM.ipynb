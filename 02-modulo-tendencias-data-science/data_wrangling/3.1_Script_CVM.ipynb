{
 "cells": [
  {
   "cell_type": "code",
   "execution_count": 1,
   "metadata": {},
   "outputs": [],
   "source": [
    "# Data Wrangling\n",
    "# MBA em Data Science e Analytics USP/ESALQ"
   ]
  },
  {
   "cell_type": "code",
   "execution_count": 2,
   "metadata": {},
   "outputs": [],
   "source": [
    "#%% Atividade nº 3 - Dataset Comissão de Valores Mobiliários (CVM)\n",
    "\n",
    "# O dataset contém informações financeiras de companhias abertas brasileiras\n",
    "# Fonte: https://dados.cvm.gov.br/dataset/cia_aberta-doc-dfp\n",
    "\n",
    "# O objetivo é analisar a variação anual nas vendas e no lucro das empresas"
   ]
  },
  {
   "cell_type": "code",
   "execution_count": null,
   "metadata": {},
   "outputs": [],
   "source": [
    "#%% Carregando os pacotes\n",
    "\n",
    "import pandas as pd\n",
    "import numpy as np\n",
    "import seaborn as sns\n",
    "import matplotlib.pyplot as plt"
   ]
  },
  {
   "cell_type": "code",
   "execution_count": 2,
   "metadata": {},
   "outputs": [],
   "source": [
    "#%% Importando os bancos de dados\n",
    "\n",
    "# Os arquivos têm um encoding específico\n",
    "# É possível ajustar já na importação do .csv\n",
    "\n",
    "dados_cvm = pd.read_csv('(3.2)_CVM_Resultado.csv', \n",
    "                        sep=';',\n",
    "                        encoding='latin1')\n",
    "\n",
    "dados_cadastro = pd.read_csv('(3.3)_CVM_Dados_Cadastrais.csv', \n",
    "                        sep=';',\n",
    "                        encoding='latin1')"
   ]
  },
  {
   "cell_type": "code",
   "execution_count": null,
   "metadata": {},
   "outputs": [],
   "source": [
    "#%% Registros únicos das contas\n",
    "\n",
    "contas = dados_cvm['DS_CONTA'].unique()\n",
    "\n",
    "print(contas)"
   ]
  },
  {
   "cell_type": "code",
   "execution_count": 4,
   "metadata": {},
   "outputs": [],
   "source": [
    "#%% Filtrar as observações de interesse\n",
    "\n",
    "# Em análise detalhada, identificou-se pelo código das contas (CD_CONTA)\n",
    "# A receita principal da empresa é 3.01 e lucro/prejuízo líquido é 3.11\n",
    "dados_sel = dados_cvm.query('CD_CONTA == \"3.01\" | CD_CONTA == \"3.11\"')"
   ]
  },
  {
   "cell_type": "code",
   "execution_count": null,
   "metadata": {},
   "outputs": [],
   "source": [
    "#%% Vamos ajustar a variável de data (que está como texto)\n",
    "\n",
    "data = pd.to_datetime(dados_sel['DT_FIM_EXERC']).dt.year\n",
    "dados_sel.insert(5, 'ANO', data)\n",
    "\n",
    "dados_sel.info()"
   ]
  },
  {
   "cell_type": "code",
   "execution_count": 6,
   "metadata": {},
   "outputs": [],
   "source": [
    "#%% Organizar as observações\n",
    "\n",
    "# Temos informações de 2021 e 2022, vamos colocá-las juntas para cada empresa\n",
    "# Para melhor organização, vamos separar as contas de receitas e lucros\n",
    "dados_sel = dados_sel.sort_values(by=['CD_CONTA', 'CD_CVM'], ascending=True)"
   ]
  },
  {
   "cell_type": "code",
   "execution_count": 7,
   "metadata": {},
   "outputs": [],
   "source": [
    "#%% Análise de duplicidades de observações\n",
    "\n",
    "contagem = dados_sel.groupby(['CD_CVM', 'CD_CONTA'])['VL_CONTA'].count()\n",
    "\n",
    "# Há um resíduo no dataset, a empresa CD_CVM = 26077 tem duplicidades"
   ]
  },
  {
   "cell_type": "code",
   "execution_count": 8,
   "metadata": {},
   "outputs": [],
   "source": [
    "#%% Exclusão do resíduo\n",
    "\n",
    "# Em análise adicional, verificou-se que há \"versões\" de relatórios\n",
    "# Vamos manter a última versão disponibilizada (VERSAO = 3)\n",
    "dados_sel.query('~(CD_CVM == 26077 & VERSAO == 1)', inplace=True)\n",
    "\n",
    "# A inversão do critério de filtro foi feita por meio do ~"
   ]
  },
  {
   "cell_type": "code",
   "execution_count": 9,
   "metadata": {},
   "outputs": [],
   "source": [
    "#%% Vamos adicionar os setores das empresas para fazer análises específicas\n",
    "\n",
    "# Ajustando a base dos dados cadastrais\n",
    "cadastrais = dados_cadastro[['CD_CVM', 'SETOR_ATIV']].copy()\n",
    "cadastrais = cadastrais[cadastrais['SETOR_ATIV'].notnull()] # elimina missings\n",
    "\n",
    "# Vamos manter apenas registros únicos (evitando duplicidade no merge)\n",
    "cadastrais.drop_duplicates(inplace=True)\n",
    "\n",
    "# Realizando o merge\n",
    "dados_sel = pd.merge(dados_sel, cadastrais, \n",
    "                     how=\"left\", \n",
    "                     on=\"CD_CVM\")"
   ]
  },
  {
   "cell_type": "code",
   "execution_count": 10,
   "metadata": {},
   "outputs": [],
   "source": [
    "#%% Limpeza: vamos selecionar apenas as variáveis de interesse\n",
    "\n",
    "dados_sel = dados_sel[['CD_CVM',\n",
    "                       'DENOM_CIA', \n",
    "                       'SETOR_ATIV', \n",
    "                       'CD_CONTA', \n",
    "                       'ANO', \n",
    "                       'VL_CONTA']]\n",
    "\n",
    "# Note que já reposicionamos na ordem desejada"
   ]
  },
  {
   "cell_type": "code",
   "execution_count": 11,
   "metadata": {},
   "outputs": [],
   "source": [
    "#%% Para facilitar a leitura das informações, vamos substituir os labels\n",
    "\n",
    "labels = {'3.01': 'Receita',\n",
    "          '3.11': 'Resultado'}\n",
    "\n",
    "dados_sel = dados_sel.assign(CD_CONTA = dados_sel.CD_CONTA.map(labels))"
   ]
  },
  {
   "cell_type": "code",
   "execution_count": 12,
   "metadata": {},
   "outputs": [],
   "source": [
    "#%% Vamos calcular a variação percentual (variável de interesse no estudo)\n",
    "\n",
    "# Criar uma variável com o valor defasado\n",
    "dados_sel['VALOR_LAG'] = dados_sel.groupby(['CD_CVM', 'CD_CONTA'])['VL_CONTA'].shift(1)\n",
    "\n",
    "# Criando uma variável com o resultado da variação\n",
    "dados_sel['VARIACAO'] = ((dados_sel['VL_CONTA'] - dados_sel['VALOR_LAG']) / dados_sel['VALOR_LAG'])\n",
    "\n",
    "# Vamos ajustar o arredondamento para melhor visualização\n",
    "dados_sel['VARIACAO'] = round(dados_sel['VARIACAO'], 3)"
   ]
  },
  {
   "cell_type": "code",
   "execution_count": null,
   "metadata": {},
   "outputs": [],
   "source": [
    "#%% Estatísticas descritivas da VARIAÇÃO\n",
    "\n",
    "# Existem valores muito extremos que influenciam as descritivas\n",
    "\n",
    "# Vamos limpar as observações\n",
    "dados_sel = dados_sel[~ dados_sel['VARIACAO'].isin([np.nan, np.inf, -np.inf])]\n",
    "\n",
    "# Tabela de estatísticas descritivas da VARIAÇÃO\n",
    "dados_sel['VARIACAO'].describe()"
   ]
  },
  {
   "cell_type": "code",
   "execution_count": 14,
   "metadata": {},
   "outputs": [],
   "source": [
    "#%% Vamos excluir grandes variações\n",
    "\n",
    "# Existem muitos valores extremos na distribuição da variável\n",
    "\n",
    "# Exemplo: vamos excluir variações maiores do que 200% e menores do que -200%\n",
    "# São indícios de variações significativas nos fundamentos da empresa\n",
    "\n",
    "dados_sel = dados_sel[dados_sel['VARIACAO'].between(-2, 2, inclusive='both')]"
   ]
  },
  {
   "cell_type": "code",
   "execution_count": null,
   "metadata": {},
   "outputs": [],
   "source": [
    "#%% Novas estatísticas descritivas\n",
    "\n",
    "dados_sel['VARIACAO'].describe()"
   ]
  },
  {
   "cell_type": "code",
   "execution_count": null,
   "metadata": {},
   "outputs": [],
   "source": [
    "#%% Informações mais detalhadas por tipo de conta (receita e resultado)\n",
    "\n",
    "dados_sel.groupby(['CD_CONTA'])['VARIACAO'].describe().T"
   ]
  },
  {
   "cell_type": "code",
   "execution_count": null,
   "metadata": {},
   "outputs": [],
   "source": [
    "#%% Informações mais detalhadas por setor\n",
    "\n",
    "# Por setor\n",
    "desc_setor = dados_sel.groupby(['CD_CONTA','SETOR_ATIV']).agg({'VARIACAO':'mean'})\n",
    "desc_setor = desc_setor.reset_index()\n",
    "\n",
    "# Os números setoriais indicam que existem análises mais específicas a fazer\n",
    "# Por exemplo, alguns setores podem ter poucas observações (média com viés)\n",
    "\n",
    "# Contagem de informações por setor\n",
    "# Critério escolhido: vamos manter apenas setores com no mínimo 6 observações\n",
    "n_setor = dados_sel[['SETOR_ATIV', 'VARIACAO']].groupby('SETOR_ATIV').count()\n",
    "\n",
    "n_setor_seleciona = (n_setor\n",
    "                     .query('VARIACAO >= 6')\n",
    "                     .rename(columns={'VARIACAO':'CONTAGEM'})).reset_index()\n",
    "\n",
    "# Ajuste do banco de dados\n",
    "desc_setor = (desc_setor\n",
    ".merge(n_setor_seleciona, how = 'left', on = 'SETOR_ATIV')\n",
    ".query('~CONTAGEM.isna()'))\n",
    "\n",
    "# Visualizando graficamente\n",
    "plt.figure(figsize=(18,12), dpi = 600)\n",
    "sns.barplot(data=desc_setor, y='SETOR_ATIV', x='VARIACAO', hue='CD_CONTA')\n",
    "\n",
    "#%% FIM!"
   ]
  }
 ],
 "metadata": {
  "kernelspec": {
   "display_name": "Python 3",
   "language": "python",
   "name": "python3"
  },
  "language_info": {
   "codemirror_mode": {
    "name": "ipython",
    "version": 3
   },
   "file_extension": ".py",
   "mimetype": "text/x-python",
   "name": "python",
   "nbconvert_exporter": "python",
   "pygments_lexer": "ipython3",
   "version": "3.8.10"
  }
 },
 "nbformat": 4,
 "nbformat_minor": 2
}
