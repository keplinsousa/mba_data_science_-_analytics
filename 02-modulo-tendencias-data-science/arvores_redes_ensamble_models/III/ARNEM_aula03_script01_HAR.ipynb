{
 "cells": [
  {
   "cell_type": "code",
   "execution_count": null,
   "metadata": {},
   "outputs": [],
   "source": [
    "# -*- coding: utf-8 -*-\n",
    "\"\"\"\n",
    "Created on Fri Jan  3 21:23:32 2025\n",
    "\n",
    "@author: João Mello\n",
    "\"\"\""
   ]
  },
  {
   "cell_type": "code",
   "execution_count": 3,
   "metadata": {},
   "outputs": [],
   "source": [
    "import pandas as pd\n",
    "import seaborn as sns\n",
    "import matplotlib.pyplot as plt\n",
    "from sklearn.tree import DecisionTreeClassifier\n",
    "from sklearn.model_selection import GridSearchCV, StratifiedKFold\n",
    "from sklearn.metrics import make_scorer, roc_auc_score\n",
    "import lightgbm as lgb\n",
    "import time\n",
    "import numpy as np"
   ]
  },
  {
   "cell_type": "code",
   "execution_count": 4,
   "metadata": {},
   "outputs": [],
   "source": [
    "#%% Lendo os dados\n",
    "X_train = pd.read_pickle('X_train.pkl')\n",
    "y_train = pd.read_pickle('y_train.pkl')\n",
    "X_test = pd.read_pickle('X_test.pkl')\n",
    "y_test = pd.read_pickle('y_test.pkl')"
   ]
  },
  {
   "cell_type": "code",
   "execution_count": null,
   "metadata": {},
   "outputs": [],
   "source": [
    "# Identificar e remover colunas duplicadas\n",
    "duplicated_columns = X_train.columns[X_train.columns.duplicated()]\n",
    "print(f'Colunas duplicadas: {duplicated_columns}')\n",
    "X_train = X_train.loc[:, ~X_train.columns.duplicated()]\n",
    "X_test = X_test.loc[:, ~X_test.columns.duplicated()]"
   ]
  },
  {
   "cell_type": "code",
   "execution_count": 6,
   "metadata": {},
   "outputs": [],
   "source": [
    "#%% Ajuste de Índice\n",
    "X_train.set_index('subject', append=True, inplace=True)\n",
    "X_test.set_index('subject', append=True, inplace=True)"
   ]
  },
  {
   "cell_type": "code",
   "execution_count": 7,
   "metadata": {},
   "outputs": [],
   "source": [
    "#%% Adicionando a coluna de resposta no dataframe de treino\n",
    "HAR_train = pd.concat([X_train.reset_index(), y_train], axis=1).set_index(['level_0', 'subject'])\n"
   ]
  },
  {
   "cell_type": "code",
   "execution_count": null,
   "metadata": {},
   "outputs": [],
   "source": [
    "#%% Visualizar Colunas\n",
    "print(HAR_train.columns)"
   ]
  },
  {
   "cell_type": "code",
   "execution_count": null,
   "metadata": {},
   "outputs": [],
   "source": [
    "#%% Análise Descritiva Básica\n",
    "fig, axs = plt.subplots(1, 3, figsize=(18, 6))\n",
    "\n",
    "sns.boxplot(data=HAR_train, x='label', y=HAR_train.iloc[:, 1], ax=axs[0])\n",
    "axs[0].set_xlabel(\"Atividade realizada\")\n",
    "axs[0].set_ylabel(HAR_train.columns[1])\n",
    "axs[0].set_title(\"Aceleração média(x) por atividade\")\n",
    "axs[0].set_xticklabels(axs[0].get_xticklabels(), rotation=30)\n",
    "\n",
    "sns.boxplot(data=HAR_train, x='label', y=HAR_train.iloc[:, 3], ax=axs[1])\n",
    "axs[1].set_xlabel(\"Atividade realizada\")\n",
    "axs[1].set_ylabel(HAR_train.columns[3])\n",
    "axs[1].set_title(\"Aceleração média(x) por atividade\")\n",
    "axs[1].set_xticklabels(axs[1].get_xticklabels(), rotation=30)\n",
    "\n",
    "sns.boxplot(data=HAR_train, x='label', y=HAR_train.iloc[:, 14], ax=axs[2])\n",
    "axs[2].set_xlabel(\"Atividade realizada\")\n",
    "axs[2].set_ylabel(HAR_train.columns[14])\n",
    "axs[2].set_title(\"Aceleração média(x) por atividade\")\n",
    "axs[2].set_xticklabels(axs[2].get_xticklabels(), rotation=30)\n",
    "\n",
    "plt.show()"
   ]
  },
  {
   "cell_type": "code",
   "execution_count": null,
   "metadata": {},
   "outputs": [],
   "source": [
    "#%% Treinamento do Modelo de Decisão\n",
    "np.random.seed(1729)\n",
    "tempo_ini = time.time()\n",
    "arvore = DecisionTreeClassifier(criterion='entropy', max_depth=6, min_samples_split=2)\n",
    "arvore.fit(X_train, y_train)\n",
    "tempo_fim = time.time()\n",
    "print(f'Tempo de treinamento da árvore: {tempo_fim - tempo_ini} segundos')\n",
    "\n",
    "importancias = pd.DataFrame(arvore.feature_importances_, index=X_train.columns, columns=['importancia'])\n",
    "top_10_variaveis = importancias.sort_values(by='importancia', ascending=False)[:10]\n",
    "print(f'Top 10 variaveis: {top_10_variaveis}')\n"
   ]
  },
  {
   "cell_type": "code",
   "execution_count": null,
   "metadata": {},
   "outputs": [],
   "source": [
    "# Selecionar as 20 variáveis com maior importância\n",
    "variaveis = importancias.nlargest(20, 'importancia').index.tolist()\n",
    "print(f'Variáveis selecionadas: {variaveis}')\n"
   ]
  },
  {
   "cell_type": "code",
   "execution_count": 12,
   "metadata": {},
   "outputs": [],
   "source": [
    "# Parâmetros para o Grid Search\n",
    "param_grid = {\n",
    "    'num_leaves': [31],\n",
    "    'max_depth': [3, 10],\n",
    "    'learning_rate': [0.05, 0.2],\n",
    "    'n_estimators': [5, 11]\n",
    "}\n"
   ]
  },
  {
   "cell_type": "code",
   "execution_count": null,
   "metadata": {},
   "outputs": [],
   "source": [
    "#%% Verificação de Valores Faltantes\n",
    "print(X_train[variaveis].isna().sum())\n",
    "print(y_train.isna().sum())\n"
   ]
  },
  {
   "cell_type": "code",
   "execution_count": 14,
   "metadata": {},
   "outputs": [],
   "source": [
    "#%% Preparação da Variável y\n",
    "y = y_train['label'].cat.codes\n"
   ]
  },
  {
   "cell_type": "code",
   "execution_count": 15,
   "metadata": {},
   "outputs": [],
   "source": [
    "#%% Configuração de GridSearchCV\n",
    "cv = StratifiedKFold(n_splits=3, shuffle=True, random_state=1729)\n",
    "scorer = make_scorer(roc_auc_score, needs_proba=True, multi_class='ovr')\n"
   ]
  },
  {
   "cell_type": "code",
   "execution_count": 16,
   "metadata": {},
   "outputs": [],
   "source": [
    "# Inicia o cronômetro\n",
    "tempo_ini = time.time()\n"
   ]
  },
  {
   "cell_type": "code",
   "execution_count": 17,
   "metadata": {},
   "outputs": [],
   "source": [
    "# Definindo o modelo LightGBM\n",
    "modelo = lgb.LGBMClassifier(objective='multiclass', random_state=1729)\n"
   ]
  },
  {
   "cell_type": "code",
   "execution_count": null,
   "metadata": {},
   "outputs": [],
   "source": [
    "# Realizando o Grid Search\n",
    "grid_search = GridSearchCV(estimator=modelo, param_grid=param_grid, scoring=scorer, cv=cv, n_jobs=-1, verbose=1)\n",
    "grid_search.fit(X_train[variaveis], y)\n"
   ]
  },
  {
   "cell_type": "code",
   "execution_count": null,
   "metadata": {},
   "outputs": [],
   "source": [
    "# Finaliza o cronômetro\n",
    "tempo_fim = time.time()\n",
    "print(f'Tempo de treinamento do Grid Search: {tempo_fim - tempo_ini} segundos')\n"
   ]
  },
  {
   "cell_type": "code",
   "execution_count": null,
   "metadata": {},
   "outputs": [],
   "source": [
    "# Exibindo os melhores parâmetros\n",
    "print(f'Melhores Parâmetros: {grid_search.best_params_}')\n",
    "resultados_cv = pd.DataFrame(grid_search.cv_results_)\n",
    "\n",
    "#%%\n",
    "\n",
    "pred_test = pd.Series(grid_search.best_estimator_.predict(X_test[variaveis]))\n",
    "\n",
    "print(pd.crosstab(pred_test, y_test.label))\n",
    "\n",
    "acurácia = (pred_test == y_test.label.cat.codes).sum()/len(y_test)\n",
    "\n",
    "print(f'acurácia = {acurácia:.2%}')"
   ]
  }
 ],
 "metadata": {
  "kernelspec": {
   "display_name": "Python 3",
   "language": "python",
   "name": "python3"
  },
  "language_info": {
   "codemirror_mode": {
    "name": "ipython",
    "version": 3
   },
   "file_extension": ".py",
   "mimetype": "text/x-python",
   "name": "python",
   "nbconvert_exporter": "python",
   "pygments_lexer": "ipython3",
   "version": "3.8.10"
  }
 },
 "nbformat": 4,
 "nbformat_minor": 2
}
