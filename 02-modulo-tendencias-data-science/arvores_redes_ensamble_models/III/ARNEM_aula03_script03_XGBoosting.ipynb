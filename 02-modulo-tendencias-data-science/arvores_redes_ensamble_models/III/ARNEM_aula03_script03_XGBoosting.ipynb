{
 "cells": [
  {
   "cell_type": "code",
   "execution_count": null,
   "metadata": {},
   "outputs": [],
   "source": [
    "# -*- coding: utf-8 -*-\n",
    "\"\"\"\n",
    "Created on Sun Jan 19 15:43:17 2025\n",
    "\n",
    "@author: João Mello\n",
    "\"\"\""
   ]
  },
  {
   "cell_type": "code",
   "execution_count": null,
   "metadata": {},
   "outputs": [],
   "source": [
    "import pandas as pd\n",
    "# import numpy as np\n",
    "from sklearn.model_selection import train_test_split, GridSearchCV\n",
    "from xgboost import XGBClassifier\n",
    "from sklearn.metrics import roc_auc_score, roc_curve\n",
    "import matplotlib.pyplot as plt\n",
    "from funcoes_ajuda import descritiva\n",
    "# import seaborn as sns"
   ]
  },
  {
   "cell_type": "code",
   "execution_count": 3,
   "metadata": {},
   "outputs": [],
   "source": [
    "#%% Carregar os dados titanic, já tratada conforme a primeira aula\n",
    "\n",
    "titanic = pd.read_pickle('titanic1.pkl')"
   ]
  },
  {
   "cell_type": "code",
   "execution_count": null,
   "metadata": {},
   "outputs": [],
   "source": [
    "#%% Verificar valores ausentes\n",
    "print(titanic.isnull().sum())"
   ]
  },
  {
   "cell_type": "code",
   "execution_count": 5,
   "metadata": {},
   "outputs": [],
   "source": [
    "#%% Gera 80% de treino e 20% de teste\n",
    "# Separar variáveis preditoras e resposta\n",
    "X = titanic.drop('survived', axis=1)\n",
    "y = titanic['survived']\n",
    "\n",
    "X_train, X_test, y_train, y_test = train_test_split(X, y, test_size=0.2, random_state=2360873)\n"
   ]
  },
  {
   "cell_type": "code",
   "execution_count": null,
   "metadata": {},
   "outputs": [],
   "source": [
    "# Sempre importante conferir a cada passo!\n",
    "print(X_train.shape)\n",
    "print(y_train.shape)\n",
    "print(X_test.shape)\n",
    "print(y_test.shape)\n"
   ]
  },
  {
   "cell_type": "code",
   "execution_count": 7,
   "metadata": {},
   "outputs": [],
   "source": [
    "#%% Parâmetros do GridSearchCV\n",
    "param_grid = {\n",
    "    'n_estimators': [50, 100, 150],\n",
    "    'max_depth': [2, 3],\n",
    "    'gamma': [0],\n",
    "    'learning_rate': [0.1, 0.4],\n",
    "    'colsample_bytree': [0.6, 0.8],\n",
    "    'min_child_weight': [1],\n",
    "    'subsample': [0.75, 1]\n",
    "}"
   ]
  },
  {
   "cell_type": "code",
   "execution_count": 8,
   "metadata": {},
   "outputs": [],
   "source": [
    "#%% Instanciar a classe do XGB\n",
    "import time\n",
    "tempo_ini = time.time()\n",
    "\n",
    "xgb = XGBClassifier(objective='binary:logistic', random_state=2360873)\n",
    "grid_search = GridSearchCV(estimator=xgb, param_grid=param_grid, \n",
    "                           scoring='roc_auc', cv=10, verbose=0, n_jobs=-1)\n",
    "\n"
   ]
  },
  {
   "cell_type": "code",
   "execution_count": null,
   "metadata": {},
   "outputs": [],
   "source": [
    "#%% Treinar o XGB já com o grid search\n",
    "grid_search.fit(X_train, y_train)\n"
   ]
  },
  {
   "cell_type": "code",
   "execution_count": null,
   "metadata": {},
   "outputs": [],
   "source": [
    "#%% Tempo final\n",
    "tempo_fim = time.time()\n",
    "print(f\"Tempo de execução: {tempo_fim - tempo_ini} segundos\")"
   ]
  },
  {
   "cell_type": "code",
   "execution_count": null,
   "metadata": {},
   "outputs": [],
   "source": [
    "#%% Avaliar o XGBoosting\n",
    "def avalia(modelo, X_train, y_train, X_test, y_test):\n",
    "    p_train = modelo.predict_proba(X_train)[:, 1]\n",
    "    # c_train = modelo.predict(X_train)\n",
    "    \n",
    "    p_test = modelo.predict_proba(X_test)[:, 1]\n",
    "    # c_test = modelo.predict(X_test)\n",
    "\n",
    "    auc_train = roc_auc_score(y_train, p_train)\n",
    "    auc_test = roc_auc_score(y_test, p_test)\n",
    "    \n",
    "    print(f'Avaliação base de treino: AUC = {auc_train:.2f}')\n",
    "    print(f'Avaliação base de teste: AUC = {auc_test:.2f}')\n",
    "    \n",
    "    fpr_train, tpr_train, _ = roc_curve(y_train, p_train)\n",
    "    fpr_test, tpr_test, _ = roc_curve(y_test, p_test)\n",
    "    \n",
    "    plt.figure(figsize=(10, 6))\n",
    "    plt.plot(fpr_train, tpr_train, color='red', label=f'Treino AUC = {auc_train:.2f}')\n",
    "    plt.plot(fpr_test, tpr_test, color='blue', label=f'Teste AUC = {auc_test:.2f}')\n",
    "    plt.plot([0, 1], [0, 1], color='black', linestyle='--')\n",
    "    plt.xlabel('Falso Positivo')\n",
    "    plt.ylabel('Verdadeiro Positivo')\n",
    "    plt.title('Curva ROC')\n",
    "    plt.legend()\n",
    "    plt.show()\n",
    "\n",
    "avalia(grid_search.best_estimator_, X_train, y_train, X_test, y_test)"
   ]
  },
  {
   "cell_type": "code",
   "execution_count": null,
   "metadata": {},
   "outputs": [],
   "source": [
    "#%% Avaliando a previsão do modelo\n",
    "titanic['pred'] = grid_search.best_estimator_.predict_proba(X)[:, 1]\n",
    "descritiva(titanic, \n",
    "           'pred',\n",
    "           vresp='survived', \n",
    "           max_classes=10)"
   ]
  }
 ],
 "metadata": {
  "kernelspec": {
   "display_name": "Python 3",
   "language": "python",
   "name": "python3"
  },
  "language_info": {
   "codemirror_mode": {
    "name": "ipython",
    "version": 3
   },
   "file_extension": ".py",
   "mimetype": "text/x-python",
   "name": "python",
   "nbconvert_exporter": "python",
   "pygments_lexer": "ipython3",
   "version": "3.8.10"
  }
 },
 "nbformat": 4,
 "nbformat_minor": 2
}
