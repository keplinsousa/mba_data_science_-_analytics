{
 "cells": [
  {
   "cell_type": "code",
   "execution_count": null,
   "metadata": {},
   "outputs": [],
   "source": [
    "# -*- coding: utf-8 -*-\n",
    "\"\"\"\n",
    "Created on Sun Jan 19 15:04:37 2025\n",
    "\n",
    "@author: João Mello\n",
    "\"\"\""
   ]
  },
  {
   "cell_type": "code",
   "execution_count": null,
   "metadata": {},
   "outputs": [],
   "source": [
    "import numpy as np\n",
    "import pandas as pd\n",
    "import matplotlib.pyplot as plt\n",
    "from sklearn.tree import DecisionTreeRegressor\n",
    "import seaborn as sns"
   ]
  },
  {
   "cell_type": "code",
   "execution_count": 3,
   "metadata": {},
   "outputs": [],
   "source": [
    "#%% Gerando os dados\n",
    "x = np.linspace(0, 1, 1000)\n",
    "a, b, c = 0, 10, -10\n",
    "np.random.seed(2360873)\n",
    "y = a + b * x + c * x ** 2 + np.random.normal(0, 0.1, len(x))\n",
    "df = pd.DataFrame({'x': x, 'y': y})"
   ]
  },
  {
   "cell_type": "code",
   "execution_count": null,
   "metadata": {},
   "outputs": [],
   "source": [
    "#%% Primeiro gráfico de X por Y\n",
    "plt.figure(figsize=(8, 5))\n",
    "sns.scatterplot(x='x', y='y', data=df)\n",
    "plt.title(\"Dispersão de X vs Y\")\n",
    "plt.xlabel(\"x\")\n",
    "plt.ylabel(\"y\")\n",
    "plt.legend([\"Observado\"])\n",
    "plt.show()"
   ]
  },
  {
   "cell_type": "code",
   "execution_count": 5,
   "metadata": {},
   "outputs": [],
   "source": [
    "#%% Boosting: Construindo a primeira árvore\n",
    "tree = DecisionTreeRegressor(max_depth=2)\n",
    "tree.fit(df[['x']], df['y'])\n",
    "df['p'] = tree.predict(df[['x']])\n",
    "df['r'] = df['y'] - df['p']"
   ]
  },
  {
   "cell_type": "code",
   "execution_count": null,
   "metadata": {},
   "outputs": [],
   "source": [
    "#%% Visualização gráfica dos valores esperados e observados\n",
    "plt.figure(figsize=(8, 5))\n",
    "sns.scatterplot(x='x', y='y', data=df, alpha=0.7, label='Observado', s=10)\n",
    "sns.lineplot(x='x', y='p', data=df, label='Predito')\n",
    "plt.title(\"Valores observados vs preditos\")\n",
    "plt.xlabel(\"x\")\n",
    "plt.ylabel(\"y\")\n",
    "plt.legend()\n",
    "plt.show()"
   ]
  },
  {
   "cell_type": "code",
   "execution_count": null,
   "metadata": {},
   "outputs": [],
   "source": [
    "#%% Gráfico de resíduos\n",
    "plt.figure(figsize=(8, 5))\n",
    "sns.scatterplot(x='x', y='r', data=df, alpha=0.7, label='Resíduo', s=10)\n",
    "plt.title(\"Gráfico de resíduos\")\n",
    "plt.xlabel(\"x\")\n",
    "plt.ylabel(\"r\")\n",
    "plt.legend()\n",
    "plt.show()\n"
   ]
  },
  {
   "cell_type": "code",
   "execution_count": null,
   "metadata": {},
   "outputs": [],
   "source": [
    "#%% Primeira iteração do boosting (uma árvore nos resíduos do anterior)\n",
    "tree1 = DecisionTreeRegressor(max_depth=2)\n",
    "tree1.fit(df[['x']], df['r'])\n",
    "df['p1'] = tree1.predict(df[['x']])\n",
    "df['P1'] = df['p'] + df['p1']\n",
    "df['r1'] = df['r'] - df['p1']\n",
    "\n",
    "#%%\n",
    "\n",
    "plt.figure(figsize=(8, 5))\n",
    "sns.scatterplot(x='x', y='r', data=df, alpha=0.7, label='Observado', s=10)\n",
    "sns.lineplot(x='x', y='p1', data=df, label='Predito')\n",
    "plt.title(\"Variável resposta neste passo\")\n",
    "plt.xlabel(\"x\")\n",
    "plt.ylabel(\"r - Resíduo 1\")\n",
    "plt.legend()\n",
    "plt.show()"
   ]
  },
  {
   "cell_type": "code",
   "execution_count": null,
   "metadata": {},
   "outputs": [],
   "source": [
    "#%% Observado vs Esperado (final)\n",
    "plt.figure(figsize=(8, 5))\n",
    "sns.scatterplot(x='x', y='y', data=df, alpha=0.7, label='Observado', s=10)\n",
    "sns.lineplot(x='x', y='P1', data=df, label='Predito')\n",
    "plt.title(\"Observado vs Predito (final)\")\n",
    "plt.xlabel(\"x\")\n",
    "plt.ylabel(\"y\")\n",
    "plt.legend()\n",
    "plt.show()\n"
   ]
  },
  {
   "cell_type": "code",
   "execution_count": null,
   "metadata": {},
   "outputs": [],
   "source": [
    "#%% Gráfico de resíduos (final)\n",
    "plt.figure(figsize=(8, 5))\n",
    "sns.scatterplot(x='x', y='r1', data=df, alpha=0.7, label='Resíduo', s=10)\n",
    "plt.title(\"Gráfico de resíduos (final)\")\n",
    "plt.xlabel(\"x\")\n",
    "plt.ylabel(\"r\")\n",
    "plt.legend()\n",
    "plt.show()\n"
   ]
  },
  {
   "cell_type": "code",
   "execution_count": null,
   "metadata": {},
   "outputs": [],
   "source": [
    "#%% Empacotando os gráficos em uma função\n",
    "def graficos(df=df, y=\"y\", x=\"x\", r=\"r\", p=\"p1\", P='P1', ri='r1'):\n",
    "    fig, ax = plt.subplots(1,3, figsize=(10, 5))\n",
    "    \n",
    "    # Mostrando somente a iteração atual: resíduos observados vs esperados\n",
    "    sns.scatterplot(x=x, y=r, data=df, alpha=0.7, label='Observado', s=10, ax=ax[0])\n",
    "    sns.lineplot(x=x, y=p, data=df, label='Predito', ax=ax[0], color=\"red\")\n",
    "    ax[0].set_title(\"resíduos obs vs esp\")\n",
    "    ax[0].set_xlabel(\"x\")\n",
    "    ax[0].set_ylabel(\"r - Resíduo 1\")\n",
    "    ax[0].legend()\n",
    "\n",
    "    \n",
    "    # Visualização gráfica dos valores esperados e observados (dados originais)\n",
    "    sns.scatterplot(x=x, y=y, data=df, alpha=0.7, label='Observado', s=10, ax=ax[1])\n",
    "    sns.lineplot(x=x, y=P, data=df, label='Predito', ax=ax[1], color=\"red\")\n",
    "    ax[1].set_title(\"Valores observados vs preditos\")\n",
    "    ax[1].set_xlabel(x)\n",
    "    ax[1].set_ylabel(y)\n",
    "    ax[1].legend()\n",
    "\n",
    "    # Gráfico de resíduos\n",
    "    sns.scatterplot(x=x, y=ri, data=df, alpha=0.7, label='Resíduo', s=10, ax=ax[2])\n",
    "    ax[2].set_title(\"Resíduo remanescente\")\n",
    "    ax[2].set_xlabel(x)\n",
    "    ax[2].set_ylabel(r)\n",
    "    ax[2].legend()\n",
    "    plt.show()\n",
    "\n",
    "graficos(df=df, y=\"y\", x=\"x\", r=\"r\", p=\"p1\", P='P1')"
   ]
  },
  {
   "cell_type": "code",
   "execution_count": null,
   "metadata": {},
   "outputs": [],
   "source": [
    "#%% Segunda iteração do boosting\n",
    "tree2 = DecisionTreeRegressor(max_depth=2)\n",
    "tree2.fit(df[['x']], df['r1'])\n",
    "df['p2'] = tree2.predict(df[['x']])\n",
    "df['P2'] = df['P1'] + df['p2']\n",
    "df['r2'] = df['r1'] - df['p2']\n",
    "\n",
    "#%%\n",
    "graficos(df=df, y=\"y\", x=\"x\", r=\"r\", p=\"p2\", P='P2')"
   ]
  },
  {
   "cell_type": "code",
   "execution_count": null,
   "metadata": {},
   "outputs": [],
   "source": [
    "#%% Terceira iteração do boosting\n",
    "tree2 = DecisionTreeRegressor(max_depth=2)\n",
    "tree2.fit(df[['x']], df['r2'])\n",
    "df['p3'] = tree2.predict(df[['x']])\n",
    "df['P3'] = df['P2'] + df['p3']\n",
    "df['r3'] = df['r2'] - df['p3']\n",
    "\n",
    "#%%\n",
    "graficos(df=df, y=\"y\", x=\"x\", r=\"r\", p=\"p3\", P='P3')"
   ]
  }
 ],
 "metadata": {
  "kernelspec": {
   "display_name": "Python 3",
   "language": "python",
   "name": "python3"
  },
  "language_info": {
   "codemirror_mode": {
    "name": "ipython",
    "version": 3
   },
   "file_extension": ".py",
   "mimetype": "text/x-python",
   "name": "python",
   "nbconvert_exporter": "python",
   "pygments_lexer": "ipython3",
   "version": "3.8.10"
  }
 },
 "nbformat": 4,
 "nbformat_minor": 2
}
