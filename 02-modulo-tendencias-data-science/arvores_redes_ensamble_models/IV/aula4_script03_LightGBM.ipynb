{
 "cells": [
  {
   "cell_type": "code",
   "execution_count": null,
   "metadata": {},
   "outputs": [],
   "source": [
    "# -*- coding: utf-8 -*-\n",
    "\"\"\"\n",
    "Created on Sat Feb  1 20:19:43 2025\n",
    "\n",
    "@author: João Mello\n",
    "\"\"\""
   ]
  },
  {
   "cell_type": "code",
   "execution_count": null,
   "metadata": {},
   "outputs": [],
   "source": [
    "#%% Importação dos pacotes\n",
    "\n",
    "import time\n",
    "import pandas as pd\n",
    "from sklearn.model_selection import train_test_split\n",
    "from sklearn.metrics import roc_auc_score\n",
    "from skopt import BayesSearchCV\n",
    "import lightgbm as lgbm\n",
    "import matplotlib.pyplot as plt"
   ]
  },
  {
   "cell_type": "code",
   "execution_count": 3,
   "metadata": {},
   "outputs": [],
   "source": [
    "#%% Carregar dados\n",
    "titanic = pd.read_pickle('titanic1.pkl')\n",
    "X = titanic.drop(columns='survived')\n",
    "y=titanic.survived"
   ]
  },
  {
   "cell_type": "code",
   "execution_count": 4,
   "metadata": {},
   "outputs": [],
   "source": [
    "#%% Dividir os dados em treino e teste (holdout)\n",
    "X_train, X_test, y_train, y_test = train_test_split(\n",
    "    X, y, test_size=0.3, random_state=42, stratify=y)"
   ]
  },
  {
   "cell_type": "code",
   "execution_count": 5,
   "metadata": {},
   "outputs": [],
   "source": [
    "#%% Definir o modelo LightGBM e os hiperparâmetros para otimização\n",
    "# Criando um classificador base\n",
    "lgbm_clf = lgbm.LGBMClassifier(boosting_type='gbdt', \n",
    "                               objective='binary', \n",
    "                               random_state=42)"
   ]
  },
  {
   "cell_type": "code",
   "execution_count": 6,
   "metadata": {},
   "outputs": [],
   "source": [
    "# Definição do espaço de busca para otimização bayesiana\n",
    "param_grid = {\n",
    "    'num_leaves': (20, 60),  # Número de folhas na árvore de decisão\n",
    "    'max_depth': (3, 15),  # Profundidade máxima da árvore\n",
    "    'learning_rate': (0.01, 0.3, 'log-uniform'),  # Taxa de aprendizado\n",
    "    'n_estimators': (50, 100),  # Número de árvores\n",
    "    'subsample': (0.5, 1.0),  # Proporção de amostras usadas em cada árvore\n",
    "    'colsample_bytree': (0.5, 1.0),  # Fração de colunas a serem usadas por árvore\n",
    "    'reg_alpha': (1e-5, 1.0, 'log-uniform'),  # Regularização L1\n",
    "    'reg_lambda': (1e-5, 1.0, 'log-uniform'),  # Regularização L2\n",
    "}\n"
   ]
  },
  {
   "cell_type": "code",
   "execution_count": 7,
   "metadata": {},
   "outputs": [],
   "source": [
    "#%% Configurar a busca Bayesiana usando BayesSearchCV\n",
    "\n",
    "# Criando o otimizador Bayesiano\n",
    "bayes_search = BayesSearchCV(\n",
    "    estimator=lgbm_clf,  # Modelo a ser otimizado\n",
    "    search_spaces=param_grid,  # Espaço de busca definido acima\n",
    "    scoring='roc_auc',  # Critério de seleção: Área sob a curva ROC (AUC)\n",
    "    n_iter=10,  # Número de avaliações do modelo\n",
    "    cv=3,  # Validação cruzada com 5 folds\n",
    "    random_state=42,\n",
    "    n_jobs=-1,  # Paralelização total dos cálculos\n",
    "    verbose=0\n",
    ")"
   ]
  },
  {
   "cell_type": "code",
   "execution_count": null,
   "metadata": {},
   "outputs": [],
   "source": [
    "#%% Executar a busca Bayesiana\n",
    "\n",
    "start_time = time.time()\n",
    "bayes_search.fit(X_train, y_train)"
   ]
  },
  {
   "cell_type": "code",
   "execution_count": 9,
   "metadata": {},
   "outputs": [],
   "source": [
    "# Parar o cronômetro\n",
    "end_time = time.time()\n",
    "elapsed_time = end_time - start_time"
   ]
  },
  {
   "cell_type": "code",
   "execution_count": null,
   "metadata": {},
   "outputs": [],
   "source": [
    "#%% Resultados da busca\n",
    "auc = bayes_search.best_score_\n",
    "gini = auc*2-1\n",
    "print(f\"Melhores hiperparâmetros: {bayes_search.best_params_}\")\n",
    "print(f\"\\ngini média na validação cruzada: {gini:.2%}\")\n",
    "print(f\"\\nTempo total de execução: {elapsed_time:.2f} segundos\")\n"
   ]
  },
  {
   "cell_type": "code",
   "execution_count": 11,
   "metadata": {},
   "outputs": [],
   "source": [
    "#%% Treinar o modelo final com os melhores hiperparâmetros\n",
    "final_clf = bayes_search.best_estimator_\n"
   ]
  },
  {
   "cell_type": "code",
   "execution_count": null,
   "metadata": {},
   "outputs": [],
   "source": [
    "# Avaliar no conjunto de teste\n",
    "bayes_test_score = final_clf.score(X_test, y_test)\n",
    "bayes_roc = roc_auc_score(y_test, final_clf.predict_proba(X_test)[:,1])\n",
    "bayes_gini = bayes_roc*2-1\n",
    "print(f\"Acurácia do bayesian search no teste: {bayes_test_score:.4f}\")\n",
    "print(f\"Gini do bayesian search no teste: {bayes_gini:.4f}\")\n"
   ]
  },
  {
   "cell_type": "code",
   "execution_count": null,
   "metadata": {},
   "outputs": [],
   "source": [
    "#%% Avaliação do melhor modelo encontrado\n",
    "\n",
    "# Melhor conjunto de hiperparâmetros\n",
    "best_params = bayes_search.best_params_\n",
    "print(\"Melhores parâmetros encontrados:\", best_params)\n"
   ]
  },
  {
   "cell_type": "code",
   "execution_count": null,
   "metadata": {},
   "outputs": [],
   "source": [
    "# Avaliação no conjunto de teste\n",
    "best_model = bayes_search.best_estimator_\n",
    "y_pred = best_model.predict_proba(X_test)[:, 1]  # Probabilidades da classe positiva\n",
    "auc_score = roc_auc_score(y_test, y_pred)\n",
    "print(f\"AUC no conjunto de teste: {auc_score:.4f}\")\n",
    "\n",
    "#%%\n",
    "resultados_bayes = pd.DataFrame(bayes_search.cv_results_)\n",
    "resultados_bayes['gini'] = resultados_bayes.mean_test_score*2-1\n",
    "resultados_bayes.gini.plot.hist(bins=40)\n",
    "plt.show()"
   ]
  }
 ],
 "metadata": {
  "kernelspec": {
   "display_name": "Python 3",
   "language": "python",
   "name": "python3"
  },
  "language_info": {
   "codemirror_mode": {
    "name": "ipython",
    "version": 3
   },
   "file_extension": ".py",
   "mimetype": "text/x-python",
   "name": "python",
   "nbconvert_exporter": "python",
   "pygments_lexer": "ipython3",
   "version": "3.8.10"
  }
 },
 "nbformat": 4,
 "nbformat_minor": 2
}
