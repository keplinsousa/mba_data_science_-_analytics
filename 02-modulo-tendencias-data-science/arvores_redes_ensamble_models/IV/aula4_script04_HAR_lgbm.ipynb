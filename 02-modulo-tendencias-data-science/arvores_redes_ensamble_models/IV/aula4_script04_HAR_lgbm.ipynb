{
 "cells": [
  {
   "cell_type": "code",
   "execution_count": null,
   "metadata": {},
   "outputs": [],
   "source": [
    "# -*- coding: utf-8 -*-\n",
    "\"\"\"\n",
    "Created on Sat Feb  1 21:07:39 2025\n",
    "\n",
    "@author: João Mello\n",
    "\"\"\""
   ]
  },
  {
   "cell_type": "code",
   "execution_count": null,
   "metadata": {},
   "outputs": [],
   "source": [
    "#%% Importação dos pacotes\n",
    "\n",
    "import pandas as pd\n",
    "# import numpy as np\n",
    "from sklearn.metrics import confusion_matrix, classification_report, \\\n",
    "    accuracy_score\n",
    "from skopt import BayesSearchCV\n",
    "from skopt.space import Real, Integer, Categorical\n",
    "import lightgbm as lgb"
   ]
  },
  {
   "cell_type": "code",
   "execution_count": 3,
   "metadata": {},
   "outputs": [],
   "source": [
    "#%% Carregar os dados\n",
    "X_train = pd.read_pickle('X_train.pkl')\n",
    "y_train = pd.read_pickle('y_train.pkl')['label']\n",
    "X_test  = pd.read_pickle('X_test.pkl')\n",
    "y_test  = pd.read_pickle('y_test.pkl')['label']\n"
   ]
  },
  {
   "cell_type": "code",
   "execution_count": null,
   "metadata": {},
   "outputs": [],
   "source": [
    "#%% Verificar as categorias das labels\n",
    "níveis = y_test.cat.categories\n",
    "print(níveis)\n",
    "print(X_train.shape, y_train.shape, X_test.shape, y_test.shape)\n"
   ]
  },
  {
   "cell_type": "code",
   "execution_count": 5,
   "metadata": {},
   "outputs": [],
   "source": [
    "#%% Definir o espaço de busca de hiperparâmetros para o LightGBM\n",
    "param_space = {\n",
    "    'n_estimators': Integer(50, 500),  # Número de árvores\n",
    "    'max_depth': Integer(3, 15),       # Profundidade máxima das árvores\n",
    "    'learning_rate': Real(0.01, 0.3, 'log-uniform'),  # Taxa de aprendizado\n",
    "    'num_leaves': Integer(20, 100),    # Número máximo de folhas\n",
    "    'min_child_samples': Integer(10, 100),  # Número mínimo de amostras por folha\n",
    "    'subsample': Real(0.5, 1.0),       # Subamostragem de dados\n",
    "    'colsample_bytree': Real(0.5, 1.0),  # Subamostragem de features\n",
    "    'reg_alpha': Real(0, 1),           # Regularização L1\n",
    "    'reg_lambda': Real(0, 1),          # Regularização L2\n",
    "    'boosting_type': Categorical(['gbdt', 'dart'])  # Tipo de boosting\n",
    "}\n"
   ]
  },
  {
   "cell_type": "code",
   "execution_count": 6,
   "metadata": {},
   "outputs": [],
   "source": [
    "#%% Configurar o modelo LightGBM\n",
    "lgb_model = lgb.LGBMClassifier(random_state=2244000, verbose=-1)\n"
   ]
  },
  {
   "cell_type": "code",
   "execution_count": 7,
   "metadata": {},
   "outputs": [],
   "source": [
    "#%% Configurar o Bayesian Search\n",
    "bayes_search = BayesSearchCV(\n",
    "    estimator=lgb_model,\n",
    "    search_spaces=param_space,\n",
    "    n_iter=5,  # Número de iterações\n",
    "    cv=2,       # Número de folds na validação cruzada\n",
    "    scoring='accuracy',\n",
    "    n_jobs=-1,  # Usar todos os núcleos do processador\n",
    "    verbose=1,\n",
    "    random_state=2244000\n",
    ")"
   ]
  },
  {
   "cell_type": "code",
   "execution_count": null,
   "metadata": {},
   "outputs": [],
   "source": [
    "#%% Executar o Bayesian Search\n",
    "tempo_ini = pd.Timestamp.now()  # Início do cronômetro\n",
    "bayes_search.fit(X_train, y_train)\n",
    "tempo_fim = pd.Timestamp.now()  # Fim do cronômetro\n",
    "print(f\"Tempo de execução: {tempo_fim - tempo_ini}\")\n"
   ]
  },
  {
   "cell_type": "code",
   "execution_count": null,
   "metadata": {},
   "outputs": [],
   "source": [
    "#%% Melhores hiperparâmetros encontrados\n",
    "print(\"Melhores hiperparâmetros:\", bayes_search.best_params_)\n"
   ]
  },
  {
   "cell_type": "code",
   "execution_count": 10,
   "metadata": {},
   "outputs": [],
   "source": [
    "#%% Gerar as previsões do modelo\n",
    "pred = bayes_search.predict(X_test)\n"
   ]
  },
  {
   "cell_type": "code",
   "execution_count": null,
   "metadata": {},
   "outputs": [],
   "source": [
    "#%% Gerar a matriz de confusão e estatísticas\n",
    "cm = confusion_matrix(y_test, pred)\n",
    "print(\"Matriz de Confusão:\")\n",
    "print(cm)\n",
    "print(\"\\nRelatório de Classificação:\")\n",
    "print(classification_report(y_test, pred))\n"
   ]
  },
  {
   "cell_type": "code",
   "execution_count": 12,
   "metadata": {},
   "outputs": [],
   "source": [
    "#%% Gerar um DataFrame temporário para avaliar o modelo\n",
    "lgb_aval = pd.DataFrame({\n",
    "    'pred': pred,\n",
    "    'obs': y_test\n",
    "})\n"
   ]
  },
  {
   "cell_type": "code",
   "execution_count": 13,
   "metadata": {},
   "outputs": [],
   "source": [
    "#%% Função personalizada para summary (multiClassSummary equivalente)\n",
    "def multiClassSummary(df, levels):\n",
    "    report = classification_report(df['obs'], df['pred'], output_dict=True)\n",
    "    summary = {\n",
    "        'Accuracy': report['accuracy']\n",
    "    }\n",
    "    for level in levels:\n",
    "        summary[f'{level} Precision'] = report[level]['precision']\n",
    "        summary[f'{level} Recall'] = report[level]['recall']\n",
    "        summary[f'{level} F1-score'] = report[level]['f1-score']\n",
    "    return summary"
   ]
  },
  {
   "cell_type": "code",
   "execution_count": null,
   "metadata": {},
   "outputs": [],
   "source": [
    "#%% Calcular métricas de avaliação\n",
    "metrics = pd.Series(multiClassSummary(lgb_aval, níveis))\n",
    "print(\"\\nMétricas de Avaliação:\")\n",
    "print(metrics)\n",
    "acc_teste = accuracy_score(y_test, lgb_aval.pred)\n",
    "print(f'A acurácia na base de teste foi de: {acc_teste:.2%}')"
   ]
  }
 ],
 "metadata": {
  "kernelspec": {
   "display_name": "Python 3",
   "language": "python",
   "name": "python3"
  },
  "language_info": {
   "codemirror_mode": {
    "name": "ipython",
    "version": 3
   },
   "file_extension": ".py",
   "mimetype": "text/x-python",
   "name": "python",
   "nbconvert_exporter": "python",
   "pygments_lexer": "ipython3",
   "version": "3.8.10"
  }
 },
 "nbformat": 4,
 "nbformat_minor": 2
}
