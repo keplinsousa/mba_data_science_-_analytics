{
 "cells": [
  {
   "cell_type": "code",
   "execution_count": null,
   "metadata": {},
   "outputs": [],
   "source": [
    "# -*- coding: utf-8 -*-\n",
    "\"\"\"\n",
    "Created on Sat Feb  1 18:26:35 2025\n",
    "\n",
    "@author: João Mello\n",
    "\"\"\""
   ]
  },
  {
   "cell_type": "code",
   "execution_count": null,
   "metadata": {},
   "outputs": [],
   "source": [
    "#%% Importação dos pacotes\n",
    "\n",
    "import time\n",
    "from sklearn.ensemble import RandomForestClassifier\n",
    "from sklearn.model_selection import train_test_split, RandomizedSearchCV, \\\n",
    "    StratifiedKFold\n",
    "from skopt import BayesSearchCV\n",
    "from skopt.space import Real, Categorical, Integer\n",
    "import pickle\n",
    "\n",
    "import numpy as np\n",
    "import pandas as pd\n",
    "from sklearn.metrics import roc_auc_score\n",
    "import matplotlib.pyplot as plt"
   ]
  },
  {
   "cell_type": "code",
   "execution_count": 3,
   "metadata": {},
   "outputs": [],
   "source": [
    "#%% Carregar dados\n",
    "titanic = pd.read_pickle('titanic1.pkl')\n",
    "X = titanic.drop(columns='survived')\n",
    "y=titanic.survived"
   ]
  },
  {
   "cell_type": "code",
   "execution_count": 4,
   "metadata": {},
   "outputs": [],
   "source": [
    "#%% Dividir os dados em treino e teste (holdout)\n",
    "X_train, X_test, y_train, y_test = train_test_split(\n",
    "    X, y, test_size=0.3, random_state=42, stratify=y\n",
    ")"
   ]
  },
  {
   "cell_type": "code",
   "execution_count": 5,
   "metadata": {},
   "outputs": [],
   "source": [
    "#%% Definir o espaço de hiperparâmetros para Random Forest\n",
    "param_dist = {\n",
    "    'n_estimators': [50, 100, 200, 300],  # Número de árvores\n",
    "    'max_depth': range(2, 30, 1),      # Profundidade máxima das árvores\n",
    "    'min_samples_split': [2, 5, 10],      # Número mínimo de amostras para dividir um nó\n",
    "    'min_samples_leaf': [1, 2, 4],        # Número mínimo de amostras em uma folha\n",
    "    'max_features': ['sqrt', 'log2', None],  # Número de features consideradas para divisão\n",
    "    'bootstrap': [True, False],           # Usar bootstrap ou não\n",
    "    'criterion': ['gini', 'entropy'],     # Critério de divisão\n",
    "    'ccp_alpha': np.linspace(0, 0.05, 20)  # Parâmetro de poda de complexidade de custo\n",
    "}"
   ]
  },
  {
   "cell_type": "code",
   "execution_count": null,
   "metadata": {},
   "outputs": [],
   "source": [
    "#%% Número de possibilidades:\n",
    "4*30*3*3*3*2*2*20"
   ]
  },
  {
   "cell_type": "code",
   "execution_count": 7,
   "metadata": {},
   "outputs": [],
   "source": [
    "#%% Configurar o RandomizedSearchCV\n",
    "n_iter = 50  # Número de combinações de hiperparâmetros a serem testadas\n",
    "kf = StratifiedKFold(n_splits=5, shuffle=True, random_state=42)  # 5-Fold estratificado\n",
    "random_search = RandomizedSearchCV(\n",
    "    estimator=RandomForestClassifier(random_state=42),\n",
    "    param_distributions=param_dist,\n",
    "    n_iter=n_iter,\n",
    "    cv=kf,\n",
    "    scoring='roc_auc',\n",
    "    n_jobs=-1,  # Usar todos os núcleos do processador\n",
    "    verbose=1,  # Mostrar progresso\n",
    "    random_state=42\n",
    ")"
   ]
  },
  {
   "cell_type": "code",
   "execution_count": null,
   "metadata": {},
   "outputs": [],
   "source": [
    "#%% Executar o RandomizedSearchCV no conjunto de treino\n",
    "# Iniciar o cronômetro\n",
    "start_time = time.time()\n",
    "random_search.fit(X_train, y_train)"
   ]
  },
  {
   "cell_type": "code",
   "execution_count": 9,
   "metadata": {},
   "outputs": [],
   "source": [
    "# Parar o cronômetro\n",
    "end_time = time.time()\n",
    "elapsed_time = end_time - start_time"
   ]
  },
  {
   "cell_type": "code",
   "execution_count": null,
   "metadata": {},
   "outputs": [],
   "source": [
    "#%% Resultados da busca\n",
    "print(f\"\\nMelhores hiperparâmetros: {random_search.best_params_}\")\n",
    "print(f\"\\nAUC média na validação cruzada: {random_search.best_score_:.4f}\")\n",
    "print(f\"\\nTempo total de execução: {elapsed_time:.2f} segundos\")\n"
   ]
  },
  {
   "cell_type": "code",
   "execution_count": 11,
   "metadata": {},
   "outputs": [],
   "source": [
    "\n",
    "#%% Treinar o modelo final com os melhores hiperparâmetros\n",
    "final_clf = random_search.best_estimator_\n"
   ]
  },
  {
   "cell_type": "code",
   "execution_count": null,
   "metadata": {},
   "outputs": [],
   "source": [
    "# Avaliar no conjunto de teste\n",
    "random_test_score = final_clf.score(X_test, y_test)\n",
    "random_roc = roc_auc_score(y_test, final_clf.predict_proba(X_test)[:,1])\n",
    "random_gini = random_roc*2-1\n",
    "print(f\"Gini do random search no teste: {random_gini:.4f}\")"
   ]
  },
  {
   "cell_type": "code",
   "execution_count": 13,
   "metadata": {},
   "outputs": [],
   "source": [
    "#%% Resgatando a árvore do script anterior\n",
    "\n",
    "# Carregar o modelo salvo\n",
    "with open('arvore_final.pkl', 'rb') as file:\n",
    "    arvore_final = pickle.load(file)"
   ]
  },
  {
   "cell_type": "code",
   "execution_count": 14,
   "metadata": {},
   "outputs": [],
   "source": [
    "#%% Verificar se o modelo suporta predict_proba (caso contrário, usar a decisão bruta)\n",
    "if hasattr(arvore_final, \"predict_proba\"):\n",
    "    y_scores = arvore_final.predict_proba(X_test)[:, 1]  # Probabilidades da classe positiva\n",
    "else:\n",
    "    y_scores = arvore_final.decision_function(X_test)  # Alternativa se não houver predict_proba\n"
   ]
  },
  {
   "cell_type": "code",
   "execution_count": null,
   "metadata": {},
   "outputs": [],
   "source": [
    "# Calcular a AUC\n",
    "auc_score = roc_auc_score(y_test, y_scores)\n",
    "gini = auc_score*2-1\n",
    "print(f\"gini na base de teste da árvore: {gini:.4f}\")\n",
    "\n",
    "\n"
   ]
  },
  {
   "cell_type": "code",
   "execution_count": null,
   "metadata": {},
   "outputs": [],
   "source": [
    "#%% Avaliando os resultados do tunning\n",
    "resultados = pd.DataFrame(random_search.cv_results_)\n",
    "resultados['gini'] = resultados.mean_test_score*2-1\n",
    "resultados.gini.plot.hist(bins=40)\n",
    "plt.show()\n"
   ]
  },
  {
   "cell_type": "code",
   "execution_count": 17,
   "metadata": {},
   "outputs": [],
   "source": [
    "#%% Bayesian search\n",
    "param_space = {\n",
    "    'n_estimators': Integer(50, 300),\n",
    "    'max_depth': Integer(1, 50),\n",
    "    'min_samples_split': Integer(2, 10),\n",
    "    'min_samples_leaf': Integer(1, 4),\n",
    "    'max_features': Categorical(['sqrt', 'log2', None]),\n",
    "    'bootstrap': Categorical([True, False]),\n",
    "    'criterion': Categorical(['gini', 'entropy']),\n",
    "    'ccp_alpha': Real(0, 0.05)\n",
    "}\n",
    "\n",
    "n_iter=20\n",
    "bayes_search = BayesSearchCV(\n",
    "    estimator=RandomForestClassifier(random_state=42),\n",
    "    search_spaces=param_space,\n",
    "    n_iter=n_iter,  # Número de iterações\n",
    "    cv=5,       # 5-Fold Cross-Validation\n",
    "    scoring='roc_auc',\n",
    "    n_jobs=-1,\n",
    "    verbose=1,\n",
    "    random_state=42\n",
    ")"
   ]
  },
  {
   "cell_type": "code",
   "execution_count": null,
   "metadata": {},
   "outputs": [],
   "source": [
    "#%% Executar o RandomizedSearchCV no conjunto de treino\n",
    "# Iniciar o cronômetro\n",
    "start_time = time.time()\n",
    "bayes_search.fit(X_train, y_train)"
   ]
  },
  {
   "cell_type": "code",
   "execution_count": 19,
   "metadata": {},
   "outputs": [],
   "source": [
    "# Parar o cronômetro\n",
    "end_time = time.time()\n",
    "elapsed_time = end_time - start_time"
   ]
  },
  {
   "cell_type": "code",
   "execution_count": null,
   "metadata": {},
   "outputs": [],
   "source": [
    "#%% Resultados da busca\n",
    "print(f\"Melhores hiperparâmetros: {bayes_search.best_params_}\")\n",
    "print(f\"\\nAUC média na validação cruzada: {bayes_search.best_score_:.2%}\")\n",
    "print(f\"\\nTempo total de execução: {elapsed_time:.2f} segundos\")\n"
   ]
  },
  {
   "cell_type": "code",
   "execution_count": 21,
   "metadata": {},
   "outputs": [],
   "source": [
    "#%% Treinar o modelo final com os melhores hiperparâmetros\n",
    "final_clf = bayes_search.best_estimator_\n"
   ]
  },
  {
   "cell_type": "code",
   "execution_count": null,
   "metadata": {},
   "outputs": [],
   "source": [
    "# Avaliar no conjunto de teste\n",
    "bayes_test_score = final_clf.score(X_test, y_test)\n",
    "bayes_roc = roc_auc_score(y_test, final_clf.predict_proba(X_test)[:,1])\n",
    "bayes_gini = bayes_roc*2-1\n",
    "print(f\"Gini do bayesian search no teste: {bayes_gini:.4f}\")\n",
    "#%%\n",
    "resultados_bayes = pd.DataFrame(bayes_search.cv_results_)\n",
    "resultados_bayes['gini'] = resultados_bayes.mean_test_score*2-1\n",
    "resultados_bayes.gini.plot.hist(bins=40)\n",
    "plt.show()"
   ]
  }
 ],
 "metadata": {
  "kernelspec": {
   "display_name": "Python 3",
   "language": "python",
   "name": "python3"
  },
  "language_info": {
   "codemirror_mode": {
    "name": "ipython",
    "version": 3
   },
   "file_extension": ".py",
   "mimetype": "text/x-python",
   "name": "python",
   "nbconvert_exporter": "python",
   "pygments_lexer": "ipython3",
   "version": "3.8.10"
  }
 },
 "nbformat": 4,
 "nbformat_minor": 2
}
