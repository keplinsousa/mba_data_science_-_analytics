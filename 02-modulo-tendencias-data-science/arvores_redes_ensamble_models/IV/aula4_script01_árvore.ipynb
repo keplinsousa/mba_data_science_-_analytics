{
 "cells": [
  {
   "cell_type": "code",
   "execution_count": null,
   "metadata": {},
   "outputs": [],
   "source": [
    "# -*- coding: utf-8 -*-\n",
    "\"\"\"\n",
    "Created on Sat Feb  1 16:03:43 2025\n",
    "\n",
    "@author: João Mello\n",
    "\"\"\""
   ]
  },
  {
   "cell_type": "code",
   "execution_count": null,
   "metadata": {},
   "outputs": [],
   "source": [
    "#%% Importação dos pacotes\n",
    "\n",
    "import pickle\n",
    "import pandas as pd\n",
    "from funcoes_ajuda import descritiva, relatorio_missing, \\\n",
    "    diagnóstico, avalia_clf\n",
    "from sklearn.tree import DecisionTreeClassifier\n",
    "from sklearn.model_selection import train_test_split, \\\n",
    "    StratifiedKFold, GridSearchCV\n",
    "from sklearn.metrics import roc_auc_score\n",
    "import seaborn as sns\n",
    "import matplotlib.pyplot as plt"
   ]
  },
  {
   "cell_type": "code",
   "execution_count": 3,
   "metadata": {},
   "outputs": [],
   "source": [
    "#%% Importar a base (já tratada)\n",
    "titanic = pd.read_pickle('titanic1.pkl')\n"
   ]
  },
  {
   "cell_type": "code",
   "execution_count": null,
   "metadata": {},
   "outputs": [],
   "source": [
    "#%% Checar rapidamente a base, tipos de dados e missing\n",
    "titanic.info()\n",
    "relatorio_missing(titanic)"
   ]
  },
  {
   "cell_type": "code",
   "execution_count": null,
   "metadata": {},
   "outputs": [],
   "source": [
    "#%% Definindo a lista de features\n",
    "variaveis = list(titanic.columns)\n",
    "vResp = 'survived'\n",
    "\n",
    "print(variaveis)\n",
    "print(vResp)\n"
   ]
  },
  {
   "cell_type": "code",
   "execution_count": null,
   "metadata": {},
   "outputs": [],
   "source": [
    "#%% A análise descritiva é sempre um passo muito importante\n",
    "for var in variaveis:\n",
    "    descritiva(titanic, var, vResp, 6)\n",
    "    "
   ]
  },
  {
   "cell_type": "code",
   "execution_count": null,
   "metadata": {},
   "outputs": [],
   "source": [
    "#%% Dividir a base em treino e teste\n",
    "X = titanic[variaveis]\n",
    "y=titanic[vResp]\n",
    "\n",
    "X_train, X_test, y_train, y_test = train_test_split(X, y, random_state=1729)\n",
    "print(X_train.shape, y_train.shape, X_test.shape, y_test.shape)\n"
   ]
  },
  {
   "cell_type": "code",
   "execution_count": null,
   "metadata": {},
   "outputs": [],
   "source": [
    "#%% Construindo a primeira árvore\n",
    "arvore1 = DecisionTreeClassifier()\n",
    "arvore1.fit(X_train, y_train)\n"
   ]
  },
  {
   "cell_type": "code",
   "execution_count": null,
   "metadata": {},
   "outputs": [],
   "source": [
    "#%% Avaliando a primeira árvore\n",
    "avalia_clf(arvore1, y_train, X_train, rótulos_y=['Não sobreviveu', 'Sobreviveu'],base='treino')\n",
    "avalia_clf(arvore1, y_test, X_test, rótulos_y=['Não sobreviveu', 'Sobreviveu'],base='teste')\n",
    "pred = arvore1.predict(X_test)\n",
    "pd.crosstab(pred, y_test)\n"
   ]
  },
  {
   "cell_type": "code",
   "execution_count": null,
   "metadata": {},
   "outputs": [],
   "source": [
    "#%% Pronto! Acurácia perfeita na base de testes... pera...\n",
    "print(X_train.columns)\n",
    "# O que há de errado com a árvore?\n"
   ]
  },
  {
   "cell_type": "code",
   "execution_count": 11,
   "metadata": {},
   "outputs": [],
   "source": [
    "#%% O erro numero 1 dos modelos perfeitos: a target no meio das features\n",
    "# Corrigindo\n",
    "variaveis.remove('survived')\n"
   ]
  },
  {
   "cell_type": "code",
   "execution_count": null,
   "metadata": {},
   "outputs": [],
   "source": [
    "#%% Refazendo as bases de treino e teste\n",
    "X = titanic[variaveis]\n",
    "y=titanic[vResp]\n",
    "\n",
    "X_train, X_test, y_train, y_test = train_test_split(X, y, random_state=1729)\n",
    "print(X_train.shape, y_train.shape, X_test.shape, y_test.shape)\n"
   ]
  },
  {
   "cell_type": "code",
   "execution_count": null,
   "metadata": {},
   "outputs": [],
   "source": [
    "#%% Treinando a primeira árvore (correta agora)\n",
    "arvore1 = DecisionTreeClassifier()\n",
    "arvore1.fit(X_train, y_train)\n"
   ]
  },
  {
   "cell_type": "code",
   "execution_count": null,
   "metadata": {},
   "outputs": [],
   "source": [
    "#%% Avaliando a primeira árvore (correta)\n",
    "avalia_clf(arvore1, y_train, X_train, rótulos_y=['Não sobreviveu', 'Sobreviveu'],base='treino')\n",
    "avalia_clf(arvore1, y_test, X_test, rótulos_y=['Não sobreviveu', 'Sobreviveu'],base='teste')\n",
    "\n",
    "path = arvore1.cost_complexity_pruning_path(X_train, y_train)  # CCP Path na base de treino\n",
    "ccp_alphas, impurities = path.ccp_alphas, path.impurities\n"
   ]
  },
  {
   "cell_type": "code",
   "execution_count": null,
   "metadata": {},
   "outputs": [],
   "source": [
    "#%% Verificar se há duplicações nos ccp_alphas\n",
    "print(len(ccp_alphas))\n",
    "len(pd.Series(ccp_alphas).unique())\n",
    "\n",
    "ccp_alphas = pd.Series(ccp_alphas).unique()"
   ]
  },
  {
   "cell_type": "code",
   "execution_count": null,
   "metadata": {},
   "outputs": [],
   "source": [
    "#%%  Avaliar diferentes alfas\n",
    "ginis=[]\n",
    "\n",
    "for alpha in ccp_alphas:\n",
    "    clf = DecisionTreeClassifier(ccp_alpha=alpha, random_state=42)\n",
    "    clf.fit(X_train, y_train)\n",
    "    auc = roc_auc_score(y_test, clf.predict_proba(X_test)[:,1])\n",
    "    gini = auc*2-1\n",
    "    ginis.append(gini)\n",
    "    # Avaliar no conjunto de validação ou com validação cruzada\n",
    "\n",
    "relatorio = pd.DataFrame({'ccp_alpha':ccp_alphas, 'gini':ginis})    \n",
    "#%%\n",
    "maximo = relatorio[relatorio.gini == relatorio.gini.max()]\n",
    "ccp_max = maximo.ccp_alpha.iloc[0]\n",
    "maximo\n",
    "#%%\n",
    "fig, ax = plt.subplots(1)\n",
    "sns.pointplot(y=ginis, x=ccp_alphas, ax=ax)\n"
   ]
  },
  {
   "cell_type": "code",
   "execution_count": null,
   "metadata": {},
   "outputs": [],
   "source": [
    "# Configuração dos ticks\n",
    "passo = 8\n",
    "x_ticks = ax.get_xticks()[::passo]\n",
    "x_tick_labels = [f'{x:.3%}' for x in ccp_alphas[::passo]]\n",
    "ax.set_xticks(x_ticks, x_tick_labels)\n"
   ]
  },
  {
   "cell_type": "code",
   "execution_count": null,
   "metadata": {},
   "outputs": [],
   "source": [
    "\n",
    "# Título do gráfico\n",
    "ax.set_title('Gini de treino por valor de CCP_alpha')\n"
   ]
  },
  {
   "cell_type": "code",
   "execution_count": null,
   "metadata": {},
   "outputs": [],
   "source": [
    "# Adicionar linha vertical no ccp_alpha que resulta no Gini máximo\n",
    "ax.axvline(x=maximo.index[0], color='red', linestyle='--', label=f'ccp_alpha (Gini máximo): {ccp_max:.3%}')\n"
   ]
  },
  {
   "cell_type": "code",
   "execution_count": null,
   "metadata": {},
   "outputs": [],
   "source": [
    "# Mostrar legenda\n",
    "ax.legend()\n"
   ]
  },
  {
   "cell_type": "code",
   "execution_count": null,
   "metadata": {},
   "outputs": [],
   "source": [
    "# Exibir o gráfico\n",
    "plt.show()\n",
    "#%%\n",
    "arvore2 = DecisionTreeClassifier(ccp_alpha=ccp_max)\n",
    "arvore2.fit(X_train, y_train)\n",
    "#%%\n",
    "avalia_clf(arvore2, y_train, X_train, rótulos_y=['Não sobreviveu', 'Sobreviveu'],base='treino')\n",
    "avalia_clf(arvore2, y_test, X_test, rótulos_y=['Não sobreviveu', 'Sobreviveu'],base='teste')\n",
    "#%%\n"
   ]
  },
  {
   "cell_type": "code",
   "execution_count": 22,
   "metadata": {},
   "outputs": [],
   "source": [
    "# Configurar o grid (as opções que vamos testar)\n",
    "param_grid = {'ccp_alpha': ccp_alphas}\n",
    "param_grid = {\n",
    "    'ccp_alpha': ccp_alphas,                # Valores de poda de complexidade de custo\n",
    "    'max_depth': [None, 5, 10],       # Profundidade máxima da árvore\n",
    "    'min_samples_split': [2, 10],        # Número mínimo de amostras para dividir um nó\n",
    "    # 'min_samples_leaf': [1, 2, 4],          # Número mínimo de amostras em uma folha\n",
    "    # 'max_features': [None, 'sqrt', 'log2'], # Número máximo de features consideradas\n",
    "    'criterion': ['gini', 'entropy']        # Critério de divisão\n",
    "}\n"
   ]
  },
  {
   "cell_type": "code",
   "execution_count": 23,
   "metadata": {},
   "outputs": [],
   "source": [
    "# Configurar a validação cruzada (CV)\n",
    "kf = StratifiedKFold(n_splits=10, shuffle=True, random_state=42) "
   ]
  },
  {
   "cell_type": "code",
   "execution_count": 24,
   "metadata": {},
   "outputs": [],
   "source": [
    "#Instanciar o classificador (árvore)\n",
    "clf = DecisionTreeClassifier(random_state=42)"
   ]
  },
  {
   "cell_type": "code",
   "execution_count": 25,
   "metadata": {},
   "outputs": [],
   "source": [
    "# Instanciar o GridSearchCV com o grid, CV e classificador\n",
    "grid_search = GridSearchCV(\n",
    "    estimator=clf,\n",
    "    param_grid=param_grid,\n",
    "    cv=kf,\n",
    "    scoring='roc_auc',\n",
    "    return_train_score=True\n",
    ")"
   ]
  },
  {
   "cell_type": "code",
   "execution_count": null,
   "metadata": {},
   "outputs": [],
   "source": [
    "# executar o grid\n",
    "grid_search.fit(X_train, y_train)\n"
   ]
  },
  {
   "cell_type": "code",
   "execution_count": null,
   "metadata": {},
   "outputs": [],
   "source": [
    "# Resultados\n",
    "best_alpha = grid_search.best_params_['ccp_alpha']\n",
    "best_score = grid_search.best_score_\n",
    "print(f\"Melhor alpha: {best_alpha}\")\n",
    "print(f\"Acurácia média na validação cruzada: {best_score:.4f}\")\n",
    "\n",
    "#%%\n",
    "resultados = pd.DataFrame(grid_search.cv_results_)\n",
    "resultados.head()\n",
    "#%%\n",
    "resultados.columns\n"
   ]
  },
  {
   "cell_type": "code",
   "execution_count": null,
   "metadata": {},
   "outputs": [],
   "source": [
    "############ Análise do Grid ###############\n",
    "#%% Avaliação do gini na base de cross validation por ccp_alpha\n",
    "resultados['gini'] = resultados.mean_test_score*2-1\n",
    "sns.lineplot(data=resultados, x='param_ccp_alpha', y='gini')\n",
    "plt.show()"
   ]
  },
  {
   "cell_type": "code",
   "execution_count": null,
   "metadata": {},
   "outputs": [],
   "source": [
    "#%%  Boxplot do gini na base de CV por ccp_alpha\n",
    "# Aqui estou interessado em avaliar máximos e mínimos\n",
    "fig, ax = plt.subplots(1)\n",
    "\n",
    "resultados['gini'] = resultados.mean_test_score*2-1\n",
    "sns.boxplot(data=resultados, \n",
    "             x=resultados['param_ccp_alpha'].astype('str'), \n",
    "             y='gini',\n",
    "             ax=ax)\n",
    "passo = 8\n",
    "x_ticks = ax.get_xticks()[::passo]\n",
    "x_tick_labels = [f'{x:.3%}' for x in ccp_alphas[::passo]]\n",
    "ax.set_xticks(x_ticks, x_tick_labels)\n",
    "plt.show()"
   ]
  },
  {
   "cell_type": "code",
   "execution_count": null,
   "metadata": {},
   "outputs": [],
   "source": [
    "#%% Gini por profundidade máxima\n",
    "resultados['gini'] = resultados.mean_test_score*2-1\n",
    "sns.boxplot(data=resultados, \n",
    "             x=resultados['param_max_depth'].astype('str'), \n",
    "             y='gini')\n",
    "plt.show()"
   ]
  },
  {
   "cell_type": "code",
   "execution_count": null,
   "metadata": {},
   "outputs": [],
   "source": [
    "#%% Gini por param_min_samples_split\n",
    "resultados['gini'] = resultados.mean_test_score*2-1\n",
    "sns.boxplot(data=resultados, \n",
    "             x=resultados['param_min_samples_split'].astype('str'), \n",
    "             y='gini')\n",
    "plt.show()"
   ]
  },
  {
   "cell_type": "code",
   "execution_count": 32,
   "metadata": {},
   "outputs": [],
   "source": [
    "#%% Treinar o modelo final com o melhor alpha\n",
    "final_clf = grid_search.best_estimator_\n",
    "prob = final_clf.predict_proba(X_test)[:,1]\n"
   ]
  },
  {
   "cell_type": "code",
   "execution_count": null,
   "metadata": {},
   "outputs": [],
   "source": [
    "# Avaliar na base de teste\n",
    "test_score = final_clf.score(X_test, y_test)\n",
    "auc = roc_auc_score(y_test, prob)\n",
    "gini = auc*2-1\n",
    "print(f\"Acurácia na base de teste: {test_score:.4f}\")\n",
    "print(f\"Gini na base de teste: {gini:.4f}\")\n",
    "\n",
    "#%%\n",
    "df_test = X_test.copy()\n",
    "df_test['y'] = y_test\n",
    "df_test['p'] = prob\n",
    "df_test.head(3)"
   ]
  },
  {
   "cell_type": "code",
   "execution_count": null,
   "metadata": {},
   "outputs": [],
   "source": [
    "#%% Avaliando a resposta do modelo para cada variável\n",
    "for var in X_test.columns:\n",
    "    diagnóstico(df_test, var, vresp='y', pred='p', max_classes=8)\n"
   ]
  },
  {
   "cell_type": "code",
   "execution_count": 35,
   "metadata": {},
   "outputs": [],
   "source": [
    "#%% Salvar o modelo final em um arquivo usando Pickle\n",
    "with open('arvore_final.pkl', 'wb') as file:\n",
    "    pickle.dump(final_clf, file)\n",
    "    "
   ]
  }
 ],
 "metadata": {
  "kernelspec": {
   "display_name": "Python 3",
   "language": "python",
   "name": "python3"
  },
  "language_info": {
   "codemirror_mode": {
    "name": "ipython",
    "version": 3
   },
   "file_extension": ".py",
   "mimetype": "text/x-python",
   "name": "python",
   "nbconvert_exporter": "python",
   "pygments_lexer": "ipython3",
   "version": "3.8.10"
  }
 },
 "nbformat": 4,
 "nbformat_minor": 2
}
