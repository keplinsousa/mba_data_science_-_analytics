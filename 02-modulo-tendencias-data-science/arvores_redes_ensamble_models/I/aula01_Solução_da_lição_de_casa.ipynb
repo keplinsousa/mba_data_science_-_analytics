{
 "cells": [
  {
   "cell_type": "code",
   "execution_count": null,
   "metadata": {},
   "outputs": [],
   "source": [
    "# -*- coding: utf-8 -*-\n",
    "\"\"\"\n",
    "Created on Sun Jan 12 14:28:03 2025\n",
    "\n",
    "@author: João Mello\n",
    "\"\"\""
   ]
  },
  {
   "cell_type": "code",
   "execution_count": null,
   "metadata": {},
   "outputs": [],
   "source": [
    "import pandas as pd\n",
    "from funcoes_ajuda import descritiva, avalia_clf\n",
    "\n",
    "\n",
    "from sklearn.model_selection import train_test_split\n",
    "from sklearn.tree import DecisionTreeClassifier\n",
    "from sklearn.metrics import roc_auc_score\n",
    "\n",
    "import matplotlib.pyplot as plt\n",
    "import seaborn as sns\n"
   ]
  },
  {
   "cell_type": "code",
   "execution_count": null,
   "metadata": {},
   "outputs": [],
   "source": [
    "df = pd.read_parquet('exercicio.parquet')\n",
    "\n",
    "print(df.info())\n",
    "print(df.head())"
   ]
  },
  {
   "cell_type": "code",
   "execution_count": null,
   "metadata": {},
   "outputs": [],
   "source": [
    "#%% Descritivas básicas\n",
    "\n",
    "for var in df.columns:\n",
    "    descritiva(df, var=var, vresp = 'inadimplencia')"
   ]
  },
  {
   "cell_type": "code",
   "execution_count": null,
   "metadata": {},
   "outputs": [],
   "source": [
    "#%% Separando treino e teste\n",
    "y = df['inadimplencia']\n",
    "X = df.drop('inadimplencia', axis=1)\n",
    "\n",
    "X_train, X_test, y_train, y_test = train_test_split(X, y, test_size=0.2, random_state=2360873)\n"
   ]
  },
  {
   "cell_type": "code",
   "execution_count": null,
   "metadata": {},
   "outputs": [],
   "source": [
    "# Imprima as formas dos conjuntos de dados resultantes\n",
    "print(\"X_train shape:\", X_train.shape)\n",
    "print(\"y_train shape:\", y_train.shape)\n",
    "print(\"X_test shape:\", X_test.shape)\n",
    "print(\"y_test shape:\", y_test.shape)"
   ]
  },
  {
   "cell_type": "code",
   "execution_count": null,
   "metadata": {},
   "outputs": [],
   "source": [
    "#%% Treinando o modelo\n",
    "\n",
    "clf = DecisionTreeClassifier()\n",
    "clf.fit(X_train, y_train)"
   ]
  },
  {
   "cell_type": "code",
   "execution_count": null,
   "metadata": {},
   "outputs": [],
   "source": [
    "#%% Avaliação base de treino\n",
    "avalia_clf(clf, y_train, X_train, rótulos_y=['Bom', 'Mau'], base = 'treino')\n"
   ]
  },
  {
   "cell_type": "code",
   "execution_count": null,
   "metadata": {},
   "outputs": [],
   "source": [
    "#%% Avaliação base de teste\n",
    "avalia_clf(clf, y_test, X_test, rótulos_y=['Bom', 'Mau'], base = 'teste')\n"
   ]
  },
  {
   "cell_type": "code",
   "execution_count": null,
   "metadata": {},
   "outputs": [],
   "source": [
    "#%% Obter os valores de CCF desta árvore\n",
    "ccp_path = pd.DataFrame(clf.cost_complexity_pruning_path(X_train, y_train))\n"
   ]
  },
  {
   "cell_type": "code",
   "execution_count": null,
   "metadata": {},
   "outputs": [],
   "source": [
    "#%% Tunando a árvore\n",
    "\n",
    "GINIs = []\n",
    "\n",
    "for ccp in ccp_path['ccp_alphas']:\n",
    "    arvore = DecisionTreeClassifier(criterion='gini', max_depth = 30, \n",
    "                                    random_state=42,\n",
    "                                    ccp_alpha=ccp)\n",
    "\n",
    "    # Treinar o modelo\n",
    "    arvore.fit(X_train, y_train)\n",
    "    AUC = roc_auc_score(y_test, arvore.predict_proba(X_test)[:, -1])\n",
    "    GINI = (AUC-0.5)*2\n",
    "    GINIs.append(GINI)\n",
    "\n",
    "sns.lineplot(x = ccp_path['ccp_alphas'], y = GINIs)\n",
    "\n",
    "df_avaliacoes = pd.DataFrame({'ccp': ccp_path['ccp_alphas'], 'GINI': GINIs})\n",
    "\n",
    "GINI_max = df_avaliacoes.GINI.max()\n",
    "ccp_max  = df_avaliacoes.loc[df_avaliacoes.GINI == GINI_max, 'ccp'].values[0]\n",
    "\n",
    "plt.ylabel('GINI da árvore')\n",
    "plt.xlabel('CCP Alphas')\n",
    "plt.title('Avaliação da árvore por valor de CCP-Alpha')\n",
    "plt.show()\n",
    "\n",
    "print(f'O GINI máximo é de: {GINI_max:.2%}\\nObtido com um ccp de: {ccp_max}')\n"
   ]
  },
  {
   "cell_type": "code",
   "execution_count": null,
   "metadata": {},
   "outputs": [],
   "source": [
    "#%% Árvore ótima\n",
    "\n",
    "arvore_tunada = DecisionTreeClassifier(criterion='gini', max_depth = 30, \n",
    "                                random_state=42,\n",
    "                                ccp_alpha=ccp_max).fit(X_train, y_train)\n",
    "\n"
   ]
  },
  {
   "cell_type": "code",
   "execution_count": null,
   "metadata": {},
   "outputs": [],
   "source": [
    "#%% avaliar\n",
    "\n",
    "print('Avaliando a base de treino:')\n",
    "avalia_clf(arvore_tunada, y_train,X_train, base='treino')\n",
    "print('Avaliando a base de teste:')\n",
    "avalia_clf(arvore_tunada, y_test,X_test, base='teste')"
   ]
  }
 ],
 "metadata": {
  "language_info": {
   "name": "python"
  }
 },
 "nbformat": 4,
 "nbformat_minor": 2
}
