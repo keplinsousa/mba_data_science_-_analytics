{
  "cells": [
    {
      "cell_type": "markdown",
      "metadata": {
        "id": "MqOLBx2UbzlX"
      },
      "source": [
        "# Importando as bibliotecas"
      ]
    },
    {
      "cell_type": "markdown",
      "metadata": {
        "id": "HGc4ihRDcBqS"
      },
      "source": [
        "#### Vamos usar o dataset - California Housing\n",
        "\n",
        "MedInc (Mediana da renda dos domicílios): Esta variável representa a mediana da renda familiar para os distritos do conjunto de dados. É uma medida-chave da capacidade de compra dos residentes em uma determinada área.\n",
        "\n",
        "HouseAge (Idade mediana das casas): Indica a idade mediana das casas em um determinado distrito. Isso pode ser um indicador do estado de conservação das casas e também da infraestrutura da região.\n",
        "\n",
        "AveRooms (Número médio de quartos por domicílio): Esta variável representa o número médio de quartos em casas dentro de um distrito. Pode ser um indicador do tamanho médio das casas na área.\n",
        "\n",
        "AveBedrms (Número médio de quartos para dormir): Indica o número médio de quartos designados para dormir nas casas. Isso pode fornecer insights sobre o layout das residências na região.\n",
        "\n",
        "Population (População): Representa o número de pessoas que vivem em um distrito. É um fator importante a considerar ao avaliar a demanda por habitação na área.\n",
        "\n",
        "AveOccup (Ocupação média por domicílio): Esta variável indica a ocupação média por domicílio no distrito. Pode ser útil para entender a densidade populacional e a capacidade de moradia na região.\n",
        "\n",
        "Latitude (Latitude): A latitude geográfica do centro do distrito em graus decimais. É uma coordenada geográfica que pode estar relacionada a fatores como clima, localização e proximidade de serviços.\n",
        "\n",
        "Longitude (Longitude): A longitude geográfica do centro do distrito em graus decimais. Assim como a latitude, a longitude pode influenciar vários aspectos, como localização em relação a cidades próximas e acesso a recursos.\n",
        "\n",
        "Target (Variável alvo - Valor mediano das casas): Esta é a variável alvo que queremos prever. Representa o valor mediano das casas para cada distrito. É a variável que geralmente tentamos prever em problemas de regressão com este conjunto de dados."
      ]
    },
    {
      "cell_type": "markdown",
      "metadata": {
        "id": "O6SFZ34rSTuG"
      },
      "source": [
        "**Importando as Bibliotecas**\n",
        "\n",
        "Nesta primeira etapa, você importa as bibliotecas necessárias:\n",
        "\n",
        "pandas: Para manipulação de dados em DataFrames.\n",
        "**train_test_split** (do sklearn.model_selection): Para dividir o conjunto de dados em treinamento e teste.\n",
        "\n",
        "**StandardScaler** (do sklearn.preprocessing): Normaliza os dados para melhorar o desempenho do modelo.\n",
        "\n",
        "**MLPRegressor** e **DecisionTreeRegressor** (do sklearn.neural_network e sklearn.tree): Modelos de regressão para previsão.\n",
        "mean_squared_error (do sklearn.metrics): Métrica de erro quadrático médio para avaliar o modelo.\n",
        "\n",
        "**fetch_california_housing** (do sklearn.datasets): Carrega o conjunto de dados California Housing.\n",
        "\n",
        "**matplotlib.pyplot**: Para visualizar o desempenho do modelo com gráficos."
      ]
    },
    {
      "cell_type": "code",
      "execution_count": null,
      "metadata": {},
      "outputs": [],
      "source": [
        "!pip install pandas\n",
        "!pip install numpy\n",
        "!pip install matplotlib\n",
        "!pip install seaborn\n",
        "!pip install scikit-learn"
      ]
    },
    {
      "cell_type": "code",
      "execution_count": null,
      "metadata": {
        "id": "HfFY3zN3bt3f"
      },
      "outputs": [],
      "source": [
        "import pandas as pd\n",
        "from sklearn.model_selection import train_test_split\n",
        "from sklearn.preprocessing import StandardScaler\n",
        "from sklearn.neural_network import MLPRegressor\n",
        "from sklearn.metrics import mean_squared_error\n",
        "from sklearn.datasets import fetch_california_housing\n",
        "import matplotlib.pyplot as plt\n",
        "from sklearn.tree import DecisionTreeRegressor"
      ]
    },
    {
      "cell_type": "markdown",
      "metadata": {
        "id": "5wErI7Tqb60z"
      },
      "source": [
        "# Importa Dataset"
      ]
    },
    {
      "cell_type": "markdown",
      "metadata": {
        "id": "Ic9jMUscSuNj"
      },
      "source": [
        "**Importa Dataset**\n",
        "\n",
        "Carregamos o conjunto de dados California Housing:\n",
        "\n",
        "fetch_california_housing: Coleta o dataset e armazena em um DataFrame, onde as colunas representam variáveis como renda, idade das casas, número médio de quartos, população, latitude, longitude e o alvo target, que é o valor mediano das casas."
      ]
    },
    {
      "cell_type": "code",
      "execution_count": null,
      "metadata": {
        "id": "ISz6j_P_cKiN"
      },
      "outputs": [],
      "source": [
        "california_housing = fetch_california_housing()\n",
        "data = pd.DataFrame(california_housing.data, columns=california_housing.feature_names)\n",
        "data['target'] = california_housing.target"
      ]
    },
    {
      "cell_type": "code",
      "execution_count": null,
      "metadata": {
        "colab": {
          "base_uri": "https://localhost:8080/",
          "height": 458
        },
        "id": "h6XFTY6UkA5r",
        "outputId": "59c600d3-8085-4964-83bf-2f091b9e3b37"
      },
      "outputs": [],
      "source": [
        "data['target']"
      ]
    },
    {
      "cell_type": "markdown",
      "metadata": {
        "id": "GhyDNFpEfUjf"
      },
      "source": [
        "# Dividindo em conjunto de treino e teste"
      ]
    },
    {
      "cell_type": "markdown",
      "metadata": {
        "id": "OgFHMpY9SwVK"
      },
      "source": [
        "**Dividindo em Conjunto de Treino e Teste**\n",
        "\n",
        "Dividimos o conjunto de dados para treinamento e teste:\n",
        "\n",
        "**train_test_split**(data, test_size=0.2, random_state=0): Divide os dados em 80% para treino e 20% para teste, garantindo consistência nos resultados com random_state=0."
      ]
    },
    {
      "cell_type": "code",
      "execution_count": null,
      "metadata": {
        "id": "XiqA-qaSuTp5"
      },
      "outputs": [],
      "source": [
        "x = data.iloc[:, 0:8]\n",
        "y = data.iloc[:, 8]"
      ]
    },
    {
      "cell_type": "code",
      "execution_count": null,
      "metadata": {
        "id": "rRa0x4hzkPqq"
      },
      "outputs": [],
      "source": [
        "# Dividindo em conjunto de treino e teste\n",
        "train_x, test_x, train_y, test_y = train_test_split(x,y, test_size=0.2, random_state=0)"
      ]
    },
    {
      "cell_type": "markdown",
      "metadata": {
        "id": "HF6CBNQ_wVCy"
      },
      "source": [
        "**Normalização dos Dados**\n",
        "\n",
        "A normalização ajusta a escala das variáveis de entrada, reduzindo variações nos dados e ajudando a melhorar o desempenho do modelo:\n",
        "\n",
        "StandardScaler(): Calcula a média e desvio padrão dos dados de treino para ajustar as variáveis.\n",
        "Transformação e Reconversão: Normaliza as colunas de variáveis de entrada (excluindo target) e reverte para DataFrame, preservando a coluna target."
      ]
    },
    {
      "cell_type": "code",
      "execution_count": null,
      "metadata": {
        "id": "f-sXDjhqfVNj"
      },
      "outputs": [],
      "source": [
        "# Normalizando apenas as features\n",
        "scaler = StandardScaler()\n",
        "feature_train_scaled = scaler.fit_transform(train_x)\n",
        "feature_test_scaled = scaler.fit_transform(test_x)"
      ]
    },
    {
      "cell_type": "markdown",
      "metadata": {
        "id": "aTAiJEy3eFN3"
      },
      "source": [
        "# Árvore de Decisão"
      ]
    },
    {
      "cell_type": "markdown",
      "metadata": {
        "id": "C5kLFFlkTLSe"
      },
      "source": [
        "**Árvore de Decisão**\n",
        "\n",
        "Primeiro modelo utilizado, onde treinamos uma árvore de decisão para prever a variável target:\n",
        "\n",
        "**DecisionTreeRegressor()**: Modelo de regressão que particiona os dados em uma estrutura de árvore para prever o valor mediano das casas.\n",
        "Treinamento e Predição: O modelo é treinado e gera previsões sobre os dados de teste.\n",
        "\n",
        "**Erro Quadrático Médio (MSE)**: Avaliamos a precisão do modelo com mean_squared_error, que mostra a média dos erros quadráticos entre os valores reais e previstos."
      ]
    },
    {
      "cell_type": "code",
      "execution_count": null,
      "metadata": {
        "id": "ooH6d0P9LjL7"
      },
      "outputs": [],
      "source": [
        "# Definir a seed\n",
        "random_seed = 42"
      ]
    },
    {
      "cell_type": "code",
      "execution_count": null,
      "metadata": {
        "id": "lOgv_-Y8eKbT"
      },
      "outputs": [],
      "source": [
        "tree_model = DecisionTreeRegressor(random_state=random_seed)\n",
        "tree_model.fit(feature_train_scaled, train_y)\n",
        "tree_predict = tree_model.predict(feature_test_scaled)\n",
        "mse_tree = mean_squared_error(test_y, tree_predict)"
      ]
    },
    {
      "cell_type": "code",
      "execution_count": null,
      "metadata": {
        "colab": {
          "base_uri": "https://localhost:8080/"
        },
        "id": "bHufyNuBeM6N",
        "outputId": "10d638bb-b92f-42ec-9823-961866393198"
      },
      "outputs": [],
      "source": [
        "mse_tree"
      ]
    },
    {
      "cell_type": "markdown",
      "metadata": {
        "id": "o9tk4AkzePq1"
      },
      "source": [
        "# Redes Neurais"
      ]
    },
    {
      "cell_type": "markdown",
      "metadata": {
        "id": "N-f-0Xn8TQa0"
      },
      "source": [
        "**Rede Neural**\n",
        "\n",
        "Em seguida, utilizamos um modelo de rede neural para fazer previsões:\n",
        "\n",
        "**MLPRegressor**(hidden_layer_sizes=(50,30,1), activation=\"identity\", solver='adam', random_state=1, max_iter=500): Rede neural com 3 camadas (50, 30 e 1 neurônios, respectivamente) e ativação linear (identity). Utilizamos o adam como otimizador e limitamos a 500 iterações para evitar o sobreajuste.\n",
        "Treinamento e Predição: O modelo é treinado e, em seguida, utilizado para gerar previsões sobre os dados de teste.\n",
        "\n",
        "**Erro Quadrático Médio (MSE)**: Avaliamos a precisão do modelo com o MSE, calculando a diferença média ao quadrado entre os valores reais e os previstos."
      ]
    },
    {
      "cell_type": "code",
      "execution_count": null,
      "metadata": {
        "id": "_7Oz7Xo5ehvh"
      },
      "outputs": [],
      "source": [
        "nn_model = MLPRegressor(hidden_layer_sizes=(50,30,1),activation=\"identity\",solver='adam',random_state=1, max_iter=500)\n",
        "nn_model.fit(feature_train_scaled, train_y)\n",
        "nn_predict = nn_model.predict(feature_test_scaled)\n",
        "mse_nn = mean_squared_error(test_y, nn_predict)"
      ]
    },
    {
      "cell_type": "code",
      "execution_count": null,
      "metadata": {
        "colab": {
          "base_uri": "https://localhost:8080/"
        },
        "id": "o0HPoWHOemlC",
        "outputId": "1661e36c-db29-4cb0-f727-00b02c4821ab"
      },
      "outputs": [],
      "source": [
        "mse_nn"
      ]
    },
    {
      "cell_type": "markdown",
      "metadata": {
        "id": "kZgzLirVTcbZ"
      },
      "source": [
        "**Visualização dos Resultados**\n",
        "\n",
        "Finalmente, comparamos as previsões da rede neural aos valores reais:\n",
        "\n",
        "Gráfico de Desempenho: Usamos matplotlib para visualizar as previsões da rede neural (em azul) contra os valores reais (em vermelho), o que nos ajuda a avaliar visualmente o desempenho do modelo e sua precisão.\n"
      ]
    },
    {
      "cell_type": "code",
      "execution_count": null,
      "metadata": {
        "colab": {
          "base_uri": "https://localhost:8080/",
          "height": 449
        },
        "id": "5GschwCqeqDT",
        "outputId": "03d37aa7-9522-4397-9049-5b6c2149a35f"
      },
      "outputs": [],
      "source": [
        "# Plot\n",
        "plt.plot(test_y.values, color='red', label='Actual')\n",
        "plt.plot(nn_predict, color='blue', label='Predicted')\n",
        "plt.xlabel('Samples')\n",
        "plt.ylabel('Target')\n",
        "plt.legend()\n",
        "plt.show()"
      ]
    }
  ],
  "metadata": {
    "colab": {
      "provenance": []
    },
    "kernelspec": {
      "display_name": "Python 3",
      "name": "python3"
    },
    "language_info": {
      "codemirror_mode": {
        "name": "ipython",
        "version": 3
      },
      "file_extension": ".py",
      "mimetype": "text/x-python",
      "name": "python",
      "nbconvert_exporter": "python",
      "pygments_lexer": "ipython3",
      "version": "3.10.12"
    }
  },
  "nbformat": 4,
  "nbformat_minor": 0
}
