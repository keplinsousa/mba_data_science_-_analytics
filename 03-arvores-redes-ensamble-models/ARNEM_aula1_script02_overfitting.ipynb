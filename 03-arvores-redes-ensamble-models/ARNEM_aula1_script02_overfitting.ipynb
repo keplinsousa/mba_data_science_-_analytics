{
 "cells": [
  {
   "cell_type": "code",
   "execution_count": null,
   "metadata": {},
   "outputs": [],
   "source": [
    "# -*- coding: utf-8 -*-\n",
    "\"\"\"\n",
    "Created on Sat Nov 16 21:08:12 2024\n",
    "\n",
    "@author: João Mello\n",
    "\n",
    "\"\"\""
   ]
  },
  {
   "cell_type": "code",
   "execution_count": null,
   "metadata": {},
   "outputs": [],
   "source": [
    "\n",
    "import pandas as pd \n",
    "import seaborn as sns\n",
    "\n",
    "import matplotlib.pyplot as plt\n",
    "\n",
    "from sklearn.model_selection import train_test_split\n",
    "from sklearn.tree import DecisionTreeClassifier\n",
    "from sklearn.metrics import roc_auc_score\n",
    "\n",
    "from funcoes_ajuda import avalia_clf"
   ]
  },
  {
   "cell_type": "code",
   "execution_count": 4,
   "metadata": {},
   "outputs": [],
   "source": [
    "#%% Carregando a base\n",
    "\n",
    "titanic = pd.read_pickle('titanic1.pkl')\n",
    "# titanic = pd.read_parquet('titanic1.parquet')"
   ]
  },
  {
   "cell_type": "code",
   "execution_count": 5,
   "metadata": {},
   "outputs": [],
   "source": [
    "#%%  Dividindo a base em treino e teste\n",
    "\n",
    "# Selecionar variáveis preditoras e a variável resposta\n",
    "X = titanic.drop(columns = ['survived'])\n",
    "y = titanic['survived']\n",
    "\n",
    "X_train, X_test, y_train, y_test = train_test_split(X, y, test_size=.25)"
   ]
  },
  {
   "cell_type": "code",
   "execution_count": null,
   "metadata": {},
   "outputs": [],
   "source": [
    "# conferindo número de linhas e colunas\n",
    "print(X_train.shape)\n",
    "print(y_train.shape)\n",
    "print(X_test.shape)\n",
    "print(y_test.shape)\n"
   ]
  },
  {
   "cell_type": "code",
   "execution_count": 7,
   "metadata": {},
   "outputs": [],
   "source": [
    "#%% Treinando a árvore\n",
    "\n",
    "# Criar o modelo de árvore de decisão\n",
    "arvore = DecisionTreeClassifier(criterion='gini', \n",
    "                                max_depth = 3, \n",
    "                                random_state=42)"
   ]
  },
  {
   "cell_type": "code",
   "execution_count": null,
   "metadata": {},
   "outputs": [],
   "source": [
    "# Treinar o modelo\n",
    "arvore.fit(X_train, y_train)"
   ]
  },
  {
   "cell_type": "code",
   "execution_count": null,
   "metadata": {},
   "outputs": [],
   "source": [
    "#%% Avaliando o modelo na base de treino\n",
    "\n",
    "print('Avaliando a base de treino:')\n",
    "avalia_clf(arvore, y_train,X_train)"
   ]
  },
  {
   "cell_type": "code",
   "execution_count": null,
   "metadata": {},
   "outputs": [],
   "source": [
    "#%% Avaliando o modelo na base de teste\n",
    "print('Avaliando a base de teste:')\n",
    "avalia_clf(arvore, y_test,X_test)"
   ]
  },
  {
   "cell_type": "code",
   "execution_count": 11,
   "metadata": {},
   "outputs": [],
   "source": [
    "#%%  Deixando a árvore ser feliz\n",
    "\n",
    "arvore = DecisionTreeClassifier(criterion='gini', max_depth = 30, \n",
    "                                random_state=42,\n",
    "                                ccp_alpha=0)"
   ]
  },
  {
   "cell_type": "code",
   "execution_count": null,
   "metadata": {},
   "outputs": [],
   "source": [
    "# Treinar o modelo\n",
    "arvore.fit(X_train, y_train)"
   ]
  },
  {
   "cell_type": "code",
   "execution_count": null,
   "metadata": {},
   "outputs": [],
   "source": [
    "#%% Avaliando o modelo na base de treino e teste\n",
    "\n",
    "print('Avaliando a base de treino:')\n",
    "avalia_clf(arvore, y_train,X_train, base='treino')\n",
    "print('Avaliando a base de teste:')\n",
    "avalia_clf(arvore, y_test,X_test, base='teste')"
   ]
  },
  {
   "cell_type": "code",
   "execution_count": 14,
   "metadata": {},
   "outputs": [],
   "source": [
    "#%% ccp_alpha\n",
    "\n",
    "ccp_path = pd.DataFrame(arvore.cost_complexity_pruning_path(X_train, y_train))\n",
    "\n"
   ]
  },
  {
   "cell_type": "code",
   "execution_count": null,
   "metadata": {},
   "outputs": [],
   "source": [
    "#%% Tunando a árvore\n",
    "\n",
    "GINIs = []\n",
    "\n",
    "for ccp in ccp_path['ccp_alphas']:\n",
    "    arvore = DecisionTreeClassifier(criterion='gini', max_depth = 30, \n",
    "                                    random_state=42,\n",
    "                                    ccp_alpha=ccp)\n",
    "\n",
    "    # Treinar o modelo\n",
    "    arvore.fit(X_train, y_train)\n",
    "    AUC = roc_auc_score(y_test, arvore.predict_proba(X_test)[:, -1])\n",
    "    GINI = (AUC-0.5)*2\n",
    "    GINIs.append(GINI)\n",
    "\n",
    "sns.lineplot(x = ccp_path['ccp_alphas'], y = GINIs)\n",
    "\n",
    "df_avaliacoes = pd.DataFrame({'ccp': ccp_path['ccp_alphas'], 'GINI': GINIs})\n",
    "\n",
    "GINI_max = df_avaliacoes.GINI.max()\n",
    "ccp_max  = df_avaliacoes.loc[df_avaliacoes.GINI == GINI_max, 'ccp'].values[0]\n",
    "\n",
    "plt.ylabel('GINI da árvore')\n",
    "plt.xlabel('CCP Alphas')\n",
    "plt.title('Avaliação da árvore por valor de CCP-Alpha')\n",
    "\n",
    "print(f'O GINI máximo é de: {GINI_max:.2%}\\nObtido com um ccp de: {ccp_max}')\n"
   ]
  },
  {
   "cell_type": "code",
   "execution_count": 17,
   "metadata": {},
   "outputs": [],
   "source": [
    "#%% Árvore ótima\n",
    "\n",
    "arvore = DecisionTreeClassifier(criterion='gini', max_depth = 30, \n",
    "                                random_state=42,\n",
    "                                ccp_alpha=ccp_max).fit(X_train, y_train)"
   ]
  },
  {
   "cell_type": "code",
   "execution_count": null,
   "metadata": {},
   "outputs": [],
   "source": [
    "#%% avaliar\n",
    "\n",
    "print('Avaliando a base de treino:')\n",
    "avalia_clf(arvore, y_train,X_train, base='treino')\n",
    "print('Avaliando a base de teste:')\n",
    "avalia_clf(arvore, y_test,X_test, base='teste')"
   ]
  }
 ],
 "metadata": {
  "kernelspec": {
   "display_name": "Python 3",
   "language": "python",
   "name": "python3"
  },
  "language_info": {
   "codemirror_mode": {
    "name": "ipython",
    "version": 3
   },
   "file_extension": ".py",
   "mimetype": "text/x-python",
   "name": "python",
   "nbconvert_exporter": "python",
   "pygments_lexer": "ipython3",
   "version": "3.8.10"
  }
 },
 "nbformat": 4,
 "nbformat_minor": 2
}
