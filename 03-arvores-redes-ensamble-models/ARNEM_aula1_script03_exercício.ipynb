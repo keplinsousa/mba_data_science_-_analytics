{
 "cells": [
  {
   "cell_type": "code",
   "execution_count": null,
   "metadata": {},
   "outputs": [],
   "source": [
    "# -*- coding: utf-8 -*-\n",
    "\"\"\"\n",
    "Created on Wed Jan  1 16:56:06 2025\n",
    "\n",
    "@author: João Mello\n",
    "\"\"\""
   ]
  },
  {
   "cell_type": "code",
   "execution_count": null,
   "metadata": {},
   "outputs": [],
   "source": [
    "import numpy as np\n",
    "import pandas as pd\n",
    "from sklearn.preprocessing import KBinsDiscretizer\n",
    "import random"
   ]
  },
  {
   "cell_type": "code",
   "execution_count": null,
   "metadata": {},
   "outputs": [],
   "source": [
    "# Definir uma semente aleatória para reprodutibilidade\n",
    "np.random.seed(42)\n",
    "random.seed(42)"
   ]
  },
  {
   "cell_type": "code",
   "execution_count": null,
   "metadata": {},
   "outputs": [],
   "source": [
    "# Gerar as variáveis simuladas com correlação\n",
    "idade = np.random.randint(18, 71, 10000)"
   ]
  },
  {
   "cell_type": "code",
   "execution_count": null,
   "metadata": {},
   "outputs": [],
   "source": [
    "# Gerar variáveis correlacionadas usando a função multivariada normal\n",
    "mean_values = [5000, 2000, 0.5, 5]  # Médias das variáveis\n",
    "correlation_matrix = np.array([\n",
    "    [1, 0.3, 0.2, -0.1],\n",
    "    [0.3, 1, -0.1, 0.2],\n",
    "    [0.2, -0.1, 1, 0.4],\n",
    "    [-0.1, 0.2, 0.4, 1]\n",
    "])  # Matriz de correlação"
   ]
  },
  {
   "cell_type": "code",
   "execution_count": null,
   "metadata": {},
   "outputs": [],
   "source": [
    "# Gerar dados simulados\n",
    "simulated_data = np.random.multivariate_normal(mean_values, correlation_matrix, 10000)\n",
    "\n",
    "renda = simulated_data[:, 0]\n",
    "divida = simulated_data[:, 1]\n",
    "utilizacao_credito = np.clip(simulated_data[:, 2], 0, 1)  # Limita a utilização de crédito entre 0 e 1\n",
    "consultas_recentes = np.maximum(simulated_data[:, 3], 0)  # Garante que o número de consultas recentes seja não negativo\n"
   ]
  },
  {
   "cell_type": "code",
   "execution_count": null,
   "metadata": {},
   "outputs": [],
   "source": [
    "# Gerar função linear das variáveis explicativas\n",
    "preditor_linear = -7 - 0.01 * idade - 0.0002 * renda + 0.003 * divida - 3 * utilizacao_credito + 0.5 * consultas_recentes\n"
   ]
  },
  {
   "cell_type": "code",
   "execution_count": null,
   "metadata": {},
   "outputs": [],
   "source": [
    "# Calcular probabilidade de default (PD) usando a função de link logit\n",
    "prob_default = 1 / (1 + np.exp(-preditor_linear))\n"
   ]
  },
  {
   "cell_type": "code",
   "execution_count": null,
   "metadata": {},
   "outputs": [],
   "source": [
    "# Gerar inadimplência como variável Bernoulli com base na probabilidade de default\n",
    "inadimplencia = np.random.binomial(1, prob_default, 10000)\n"
   ]
  },
  {
   "cell_type": "code",
   "execution_count": null,
   "metadata": {},
   "outputs": [],
   "source": [
    "# Criar dataframe\n",
    "dados = pd.DataFrame({\n",
    "    'idade': idade,\n",
    "    'renda': renda,\n",
    "    'divida': divida,\n",
    "    'utilizacao_credito': utilizacao_credito,\n",
    "    'consultas_recentes': consultas_recentes,\n",
    "    'inadimplencia': inadimplencia\n",
    "})\n",
    "\n",
    "print(dados.head())"
   ]
  },
  {
   "cell_type": "code",
   "execution_count": null,
   "metadata": {},
   "outputs": [],
   "source": [
    "# Categorizar a idade\n",
    "kbin = KBinsDiscretizer(n_bins=5, encode='ordinal', strategy='quantile')\n",
    "dados['idade_cat'] = kbin.fit_transform(dados[['idade']])\n",
    "\n",
    "def descritiva2(var1, var2, df):\n",
    "    cross_tab = pd.crosstab(df[var1], df[var2], normalize='index')\n",
    "    print(cross_tab)\n",
    "\n",
    "descritiva2('idade_cat', 'inadimplencia', dados)\n",
    "\n",
    "print(dados.head())\n",
    "\n",
    "dados.to_parquet('exercicio.parquet')\n",
    "\n",
    "#####################################################################################\n",
    "# Agora é a sua vez: Ajuste uma árvore de decisão, e explore os recursos que fizemos \n",
    "# ao longo da aula nesta base de dados ;)"
   ]
  }
 ],
 "metadata": {
  "language_info": {
   "name": "python"
  }
 },
 "nbformat": 4,
 "nbformat_minor": 2
}
