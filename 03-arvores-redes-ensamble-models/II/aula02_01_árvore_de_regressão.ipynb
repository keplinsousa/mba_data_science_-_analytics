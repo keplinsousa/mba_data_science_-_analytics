{
 "cells": [
  {
   "cell_type": "code",
   "execution_count": null,
   "metadata": {},
   "outputs": [],
   "source": [
    "# -*- coding: utf-8 -*-\n",
    "\"\"\"\n",
    "Created on Sun Dec  8 20:51:46 2024\n",
    "\n",
    "@author: João Mello\n",
    "\"\"\""
   ]
  },
  {
   "cell_type": "code",
   "execution_count": 51,
   "metadata": {},
   "outputs": [],
   "source": [
    "\n",
    "import numpy as np\n",
    "import pandas as pd\n",
    "import matplotlib.pyplot as plt\n",
    "import seaborn as sns\n",
    "\n",
    "from sklearn.tree import DecisionTreeRegressor\n",
    "from sklearn.tree import plot_tree\n",
    "\n",
    "from sklearn.model_selection import train_test_split\n",
    "from sklearn.model_selection import GridSearchCV\n",
    "from sklearn.metrics import r2_score"
   ]
  },
  {
   "cell_type": "code",
   "execution_count": 52,
   "metadata": {},
   "outputs": [],
   "source": [
    "# Semente aleatória para reprodutibilidade (sacou o eastereg?)\n",
    "np.random.seed(2360873)"
   ]
  },
  {
   "cell_type": "code",
   "execution_count": 53,
   "metadata": {},
   "outputs": [],
   "source": [
    "# Gerar 1000 valores sequenciais para X\n",
    "x = np.linspace(0, 1, 1000)"
   ]
  },
  {
   "cell_type": "code",
   "execution_count": 54,
   "metadata": {},
   "outputs": [],
   "source": [
    "# Definindo os parâmetros da parábola\n",
    "a = 0\n",
    "b = 10\n",
    "c = -10\n"
   ]
  },
  {
   "cell_type": "code",
   "execution_count": 55,
   "metadata": {},
   "outputs": [],
   "source": [
    "# Gerar uma relação quadrática com ruído\n",
    "y = a + b * x + c * x**2 + np.random.normal(loc=0, scale=.3, size=len(x))**3\n"
   ]
  },
  {
   "cell_type": "code",
   "execution_count": 56,
   "metadata": {},
   "outputs": [],
   "source": [
    "\n",
    "# Criar o data frame\n",
    "df = pd.DataFrame({'x': x, 'y': y})\n"
   ]
  },
  {
   "cell_type": "code",
   "execution_count": null,
   "metadata": {},
   "outputs": [],
   "source": [
    "# Construir o gráfico\n",
    "plt.figure(figsize=(10, 6))  # Adjust figure size as needed\n",
    "sns.scatterplot(x='x', y='y', data=df, color='skyblue', label='Observado')\n"
   ]
  },
  {
   "cell_type": "code",
   "execution_count": null,
   "metadata": {},
   "outputs": [],
   "source": [
    "# Estética do gráfico\n",
    "plt.title('Relação Quadrática com Ruído')\n",
    "plt.xlabel('x')\n",
    "plt.ylabel('y')\n",
    "plt.legend(loc='lower center', bbox_to_anchor=(0.5, -0.15), ncol=3, frameon=False)  # Adjust legend position\n",
    "plt.show()"
   ]
  },
  {
   "cell_type": "code",
   "execution_count": null,
   "metadata": {},
   "outputs": [],
   "source": [
    "# Treinar a árvore de regressão com profundidade = 2\n",
    "tree = DecisionTreeRegressor(max_depth=2, ccp_alpha=0) \n",
    "tree.fit(df[['x']], df['y'])"
   ]
  },
  {
   "cell_type": "code",
   "execution_count": null,
   "metadata": {},
   "outputs": [],
   "source": [
    "# Valores preditos\n",
    "df['p'] = tree.predict(df[['x']])\n",
    "print(df[['p']].tail()) #investigar a previsão\n",
    "df['r'] = df['y'] - df['p']"
   ]
  },
  {
   "cell_type": "code",
   "execution_count": null,
   "metadata": {},
   "outputs": [],
   "source": [
    "# Plotando a árvore\n",
    "plt.figure(figsize=(10, 6))\n",
    "plot_tree(tree, filled=True, feature_names=['x'])\n",
    "plt.show()\n"
   ]
  },
  {
   "cell_type": "code",
   "execution_count": null,
   "metadata": {},
   "outputs": [],
   "source": [
    "#%% Gráfico de dispersão com a previsão\n",
    "plt.figure(figsize=(10, 6))\n",
    "sns.scatterplot(x='x', y='y', data=df, color='skyblue', label='Observado')\n",
    "plt.plot(df['x'], df['p'], color='red', label='Predito') #adicionando a linha de previsão\n",
    "plt.title('Relação Quadrática com Ruído e Previsão da Árvore')\n",
    "plt.xlabel('x')\n",
    "plt.ylabel('y')\n",
    "plt.legend()\n",
    "plt.show()"
   ]
  },
  {
   "cell_type": "code",
   "execution_count": null,
   "metadata": {},
   "outputs": [],
   "source": [
    "#%% Gráfico de resíduos\n",
    "\n",
    "fig, ax = plt.subplots(1, 2)\n",
    "\n",
    "sns.scatterplot(x='x', y='y', data=df, color='skyblue', label='Observado', ax=ax[0])\n",
    "\n",
    "ax[0].plot(df['x'], df['p'], color='red', label='Predito') #adicionando a linha de previsão\n",
    "ax[0].set_title('Relação Quadrática com Ruído e Previsão da Árvore')\n",
    "ax[0].set_xlabel('x')\n",
    "ax[0].set_ylabel('y')\n",
    "ax[0].legend()\n",
    "# ax[0].show()\n",
    "\n",
    "sns.scatterplot(x='x', y='r', data=df, color='skyblue', label='Observado', ax=ax[1])\n",
    "plt.show()"
   ]
  },
  {
   "cell_type": "code",
   "execution_count": 64,
   "metadata": {},
   "outputs": [],
   "source": [
    "#%% Empacotar a árvore e o gráfico em uma chamada de função\n",
    "\n",
    "def passo_arvore(profundidade=3):\n",
    "    # árvore\n",
    "    tree = DecisionTreeRegressor(max_depth=profundidade, ccp_alpha=0) \n",
    "    tree.fit(df[['x']], df['y'])\n",
    "    \n",
    "    df['p'] = tree.predict(df[['x']])\n",
    "    df['r'] = df['y'] - df['p']\n",
    "    \n",
    "    # Define a figura com dois sistemas de eixos\n",
    "    fig, ax = plt.subplots(1, 2, figsize=(12, 6)) # Increased figure size for better spacing\n",
    "    \n",
    "    # Gráfico principal - obs vs esp\n",
    "    sns.scatterplot(x='x', y='y', data=df, color='skyblue', label='Observado', ax=ax[0])\n",
    "    ax[0].plot(df['x'], df['p'], color='red', label='Predito') #adicionando a linha de previsão\n",
    "    ax[0].set_title(f'Observados vs Esperados - profundidade = {i}')\n",
    "    ax[0].set_xlabel('x')\n",
    "    ax[0].set_ylabel('y')\n",
    "    ax[0].legend()\n",
    "    \n",
    "    # Gráfico da direita - resíduos\n",
    "    sns.scatterplot(x='x', y='r', data=df, color='skyblue', label='Resíduos', ax=ax[1]) # Corrected label\n",
    "    ax[1].set_title(f'Resíduos com profundidade = {i}')\n",
    "    ax[1].set_xlabel('x')\n",
    "    ax[1].set_ylabel('Resíduos')\n",
    "    ax[1].legend()\n",
    "    plt.tight_layout() # Adjusts subplot params for a tight layout\n",
    "    plt.show()"
   ]
  },
  {
   "cell_type": "code",
   "execution_count": null,
   "metadata": {},
   "outputs": [],
   "source": [
    "#%% rodar a função\n",
    "\n",
    "for i in [1, 2, 3, 5, 10, 30]:\n",
    "    passo_arvore(i)"
   ]
  },
  {
   "cell_type": "code",
   "execution_count": 66,
   "metadata": {},
   "outputs": [],
   "source": [
    "### Abaixo vamos iniciar o grid search com k-fold\n",
    "x = df[['x']]\n",
    "y = df[['y']]"
   ]
  },
  {
   "cell_type": "code",
   "execution_count": 67,
   "metadata": {},
   "outputs": [],
   "source": [
    "# Treino e teste\n",
    "X_train, X_test, y_train, y_test = train_test_split(x, y, test_size=0.2, random_state=42)\n",
    "\n"
   ]
  },
  {
   "cell_type": "code",
   "execution_count": null,
   "metadata": {},
   "outputs": [],
   "source": [
    "#%% Deixando a árvore ser feliz\n",
    "tree = DecisionTreeRegressor(max_depth=30, ccp_alpha=0)\n",
    "tree.fit(df[['x']], df['y'])\n",
    "\n",
    "grid = tree.cost_complexity_pruning_path(X_train, y_train)\n",
    "\n",
    "path = tree.cost_complexity_pruning_path(X_train, y_train)\n",
    "ccp_alphas, impurities = path.ccp_alphas, path.impurities\n",
    "sns.scatterplot(x = ccp_alphas, y = impurities)\n",
    "len(ccp_alphas)\n",
    "#%%\n",
    "param_grid  = {'ccp_alpha': ccp_alphas[::10]}\n",
    "\n",
    "grid_search = GridSearchCV(estimator=tree, \n",
    "                          param_grid=param_grid,\n",
    "                          cv=5,  # 5-fold cross-validation\n",
    "                          scoring='neg_mean_squared_error')  # Metrica de avaliação\n",
    "\n"
   ]
  },
  {
   "cell_type": "code",
   "execution_count": null,
   "metadata": {},
   "outputs": [],
   "source": [
    "# Treinando o modelo com o grid search\n",
    "grid_search.fit(X_train, y_train)\n"
   ]
  },
  {
   "cell_type": "code",
   "execution_count": null,
   "metadata": {},
   "outputs": [],
   "source": [
    "#%% Obtendo os melhores parâmetros\n",
    "best_params = grid_search.best_params_\n",
    "print(best_params)"
   ]
  },
  {
   "cell_type": "code",
   "execution_count": null,
   "metadata": {},
   "outputs": [],
   "source": [
    "#%% Criando o modelo com os melhores parâmetros\n",
    "best_tree = DecisionTreeRegressor(**best_params, max_depth=30)\n",
    "best_tree.fit(X_train, y_train)"
   ]
  },
  {
   "cell_type": "code",
   "execution_count": 72,
   "metadata": {},
   "outputs": [],
   "source": [
    "#%% Avaliando a árvore na base de teste\n",
    "\n",
    "# Fazendo previsões na base de teste\n",
    "y_pred = best_tree.predict(X_test)"
   ]
  }
 ],
 "metadata": {
  "kernelspec": {
   "display_name": "Python 3",
   "language": "python",
   "name": "python3"
  },
  "language_info": {
   "codemirror_mode": {
    "name": "ipython",
    "version": 3
   },
   "file_extension": ".py",
   "mimetype": "text/x-python",
   "name": "python",
   "nbconvert_exporter": "python",
   "pygments_lexer": "ipython3",
   "version": "3.8.10"
  }
 },
 "nbformat": 4,
 "nbformat_minor": 2
}
