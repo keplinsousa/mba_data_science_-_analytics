{
 "cells": [
  {
   "cell_type": "code",
   "execution_count": null,
   "metadata": {},
   "outputs": [],
   "source": [
    "# -*- coding: utf-8 -*-\n",
    "\"\"\"\n",
    "Created on Sun Dec  8 22:32:51 2024\n",
    "\n",
    "@author: João Mello\n",
    "\"\"\""
   ]
  },
  {
   "cell_type": "code",
   "execution_count": null,
   "metadata": {},
   "outputs": [],
   "source": [
    "import numpy as np\n",
    "import pandas as pd\n",
    "import matplotlib.pyplot as plt"
   ]
  },
  {
   "cell_type": "code",
   "execution_count": 3,
   "metadata": {},
   "outputs": [],
   "source": [
    "#%% Gera os dados\n",
    "# Gerar um dataframe com dados aleatórios\n",
    "np.random.seed(123)  # Definir a semente para reprodução dos resultados\n",
    "# Exemplo: dataframe com uma coluna chamada \"dados\" e 100 observações\n",
    "df = pd.DataFrame({'dados': np.random.normal(size=100)})\n"
   ]
  },
  {
   "cell_type": "code",
   "execution_count": 4,
   "metadata": {},
   "outputs": [],
   "source": [
    "#%% Calcula o erro padrão por bootstrap\n",
    "# Função para calcular o erro padrão da média\n",
    "def calcular_erro_padrao_media(data, n_boot=1000):\n",
    "  n = len(data)\n",
    "  medias_boot = np.zeros(n_boot)  # Vetor para armazenar as médias bootstrap\n",
    "  for i in range(n_boot):\n",
    "    # Amostragem bootstrap - com reposição - mesmo tamanho da amostra\n",
    "    bootstrap_sample = np.random.choice(data, size=n, replace=True)\n",
    "    # Cálculo da média da amostra bootstrap\n",
    "    medias_boot[i] = np.mean(bootstrap_sample)\n",
    "  return medias_boot"
   ]
  },
  {
   "cell_type": "code",
   "execution_count": 5,
   "metadata": {},
   "outputs": [],
   "source": [
    "#%% Chamada da função para calcular o erro padrão da média no dataframe\n",
    "amostra_bootstrap = calcular_erro_padrao_media(df['dados'])\n"
   ]
  },
  {
   "cell_type": "code",
   "execution_count": null,
   "metadata": {},
   "outputs": [],
   "source": [
    "#%%  Histograma das médias bootstrap\n",
    "plt.hist(amostra_bootstrap)\n",
    "plt.title('Histograma das médias bootstrap')\n",
    "plt.xlabel('Médias Bootstrap')\n",
    "plt.ylabel('Frequência')\n",
    "plt.show()\n"
   ]
  },
  {
   "cell_type": "code",
   "execution_count": null,
   "metadata": {},
   "outputs": [],
   "source": [
    "# Desvio padrão das médias bootstrap\n",
    "desvio_padrao = np.std(amostra_bootstrap)\n",
    "print(f\"Desvio padrão das médias bootstrap: {desvio_padrao}\")"
   ]
  }
 ],
 "metadata": {
  "kernelspec": {
   "display_name": "Python 3",
   "language": "python",
   "name": "python3"
  },
  "language_info": {
   "codemirror_mode": {
    "name": "ipython",
    "version": 3
   },
   "file_extension": ".py",
   "mimetype": "text/x-python",
   "name": "python",
   "nbconvert_exporter": "python",
   "pygments_lexer": "ipython3",
   "version": "3.8.10"
  }
 },
 "nbformat": 4,
 "nbformat_minor": 2
}
